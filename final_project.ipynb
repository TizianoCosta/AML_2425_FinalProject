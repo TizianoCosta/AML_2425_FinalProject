{
  "nbformat": 4,
  "nbformat_minor": 0,
  "metadata": {
    "colab": {
      "provenance": [],
      "authorship_tag": "ABX9TyNCpC/R9U5HB47KVKqQQ22t"
    },
    "kernelspec": {
      "name": "python3",
      "display_name": "Python 3"
    },
    "language_info": {
      "name": "python"
    }
  },
  "cells": [
    {
      "cell_type": "markdown",
      "source": [
        "# Notebook Progetto Finale AML 24-25"
      ],
      "metadata": {
        "id": "wZrQvpF4zBZ_"
      }
    }
  ]
}