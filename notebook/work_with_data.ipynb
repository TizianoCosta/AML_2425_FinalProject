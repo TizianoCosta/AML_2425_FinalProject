{
  "nbformat": 4,
  "nbformat_minor": 0,
  "metadata": {
    "colab": {
      "provenance": [],
      "authorship_tag": "ABX9TyO6jEoJfXh2XStU70cPL61d"
    },
    "kernelspec": {
      "name": "python3",
      "display_name": "Python 3"
    },
    "language_info": {
      "name": "python"
    }
  },
  "cells": [
    {
      "cell_type": "markdown",
      "source": [
        "# Notebook per pre-elaborazione dei dati\n",
        "\n",
        "Di seguito:\n",
        "- verranno prelevati i dati e resi disponibili su variabili;\n",
        "- saranno effettuate operazioni sui dati per avvicinarsi a distribuzioni gaussiane;\n",
        "- verranno create nuove feature create a partire da quelle presenti e sarà valutata la loro significatività"
      ],
      "metadata": {
        "id": "CIs0Jhd77joY"
      }
    },
    {
      "cell_type": "markdown",
      "source": [
        "## Scaricamento dei dati"
      ],
      "metadata": {
        "id": "JjGgCqx9A1VO"
      }
    },
    {
      "cell_type": "code",
      "execution_count": 1,
      "metadata": {
        "id": "1vBLt0MJ7fSI",
        "outputId": "87a4b45e-81f2-4ca3-ec05-59f2f84d1e2b",
        "colab": {
          "base_uri": "https://localhost:8080/"
        }
      },
      "outputs": [
        {
          "output_type": "stream",
          "name": "stdout",
          "text": [
            "Downloading https://phm-datasets.s3.amazonaws.com/Data_Challenge_PHM2024_training_data.zip...\n",
            "Extracted files from https://phm-datasets.s3.amazonaws.com/Data_Challenge_PHM2024_training_data.zip to dataset\n",
            "Downloading https://phm-datasets.s3.amazonaws.com/Data_Challenge_PHM2024_validation_data.zip...\n",
            "Extracted files from https://phm-datasets.s3.amazonaws.com/Data_Challenge_PHM2024_validation_data.zip to dataset\n",
            "Downloading https://phm-datasets.s3.amazonaws.com/Data_Challenge_PHM2024_test_data.zip...\n",
            "Extracted files from https://phm-datasets.s3.amazonaws.com/Data_Challenge_PHM2024_test_data.zip to dataset\n",
            "Download and extraction complete.\n",
            "CSV files found: ['dataset/X_validation.csv', 'dataset/X_test.csv', 'dataset/X_train.csv', 'dataset/y_train.csv']\n"
          ]
        }
      ],
      "source": [
        "# File per scaricare i dati per fare analisi di machine learning\n",
        "\n",
        "import requests\n",
        "import zipfile\n",
        "import io\n",
        "import os\n",
        "\n",
        "# List of URLs to your zipped files on AWS\n",
        "urls = [\n",
        "    \"https://phm-datasets.s3.amazonaws.com/Data_Challenge_PHM2024_training_data.zip\",\n",
        "    \"https://phm-datasets.s3.amazonaws.com/Data_Challenge_PHM2024_validation_data.zip\",\n",
        "    \"https://phm-datasets.s3.amazonaws.com/Data_Challenge_PHM2024_test_data.zip\",\n",
        "]\n",
        "\n",
        "# Directory to save the extracted files\n",
        "output_dir = \"dataset\"\n",
        "os.makedirs(output_dir, exist_ok=True)\n",
        "\n",
        "for url in urls:\n",
        "    try:\n",
        "        print(f\"Downloading {url}...\")\n",
        "        response = requests.get(url, stream=True)\n",
        "        response.raise_for_status() # Raise an exception for bad status codes\n",
        "\n",
        "        # Read the zip file from the response content\n",
        "        with zipfile.ZipFile(io.BytesIO(response.content)) as zip_ref:\n",
        "            # Extract all contents to the specified output directory\n",
        "            zip_ref.extractall(output_dir)\n",
        "            print(f\"Extracted files from {url} to {output_dir}\")\n",
        "\n",
        "    except requests.exceptions.RequestException as e:\n",
        "        print(f\"Error downloading {url}: {e}\")\n",
        "    except zipfile.BadZipFile:\n",
        "        print(f\"Error: The downloaded file from {url} is not a valid zip file.\")\n",
        "    except Exception as e:\n",
        "        print(f\"An unexpected error occurred: {e}\")\n",
        "\n",
        "print(\"Download and extraction complete.\")\n",
        "\n",
        "# Now you can access your CSV files in the 'downloaded_data' directory\n",
        "# For example, to list the files in the directory:\n",
        "import glob\n",
        "csv_files = glob.glob(os.path.join(output_dir, \"*.csv\"))\n",
        "print(\"CSV files found:\", csv_files)"
      ]
    },
    {
      "cell_type": "markdown",
      "source": [
        "## Creazione variabile dati di training"
      ],
      "metadata": {
        "id": "ei0wmEUGA8nc"
      }
    },
    {
      "cell_type": "code",
      "source": [
        "# prompt: ho i seguenti file 'dataset/X_train.csv', 'dataset/y_train.csv' vorrei mettere quanto presente in 'dataset/X_train.csv' in una variabile  assieme alla seconda colonna di 'dataset/y_train.csv'\n",
        "\n",
        "import pandas as pd\n",
        "\n",
        "# Load the training data\n",
        "X_train = pd.read_csv('dataset/X_train.csv')\n",
        "y_train = pd.read_csv('dataset/y_train.csv')\n",
        "\n",
        "# Extract the second column from y_train\n",
        "y_train_second_col = y_train.iloc[:, 1]\n",
        "\n",
        "# Combine X_train and the second column of y_train into a single DataFrame\n",
        "# Assuming you want to add the y_train second column as a new column to X_train\n",
        "combined_data = pd.concat([X_train, y_train_second_col.rename('failure')], axis=1)\n",
        "\n",
        "# Now combined_data is a pandas DataFrame containing X_train and the second column of y_train\n",
        "# You can access it as a variable\n",
        "print(combined_data.head())"
      ],
      "metadata": {
        "id": "RRd5cHNqBAe8",
        "outputId": "57440ee2-aba3-44e5-c17b-f7337edb90fc",
        "colab": {
          "base_uri": "https://localhost:8080/"
        }
      },
      "execution_count": 3,
      "outputs": [
        {
          "output_type": "stream",
          "name": "stdout",
          "text": [
            "   id  trq_measured       oat       mgt         pa       ias         np  \\\n",
            "0   0        54.100   2.00000  544.5000   212.1408  74.56250   89.18000   \n",
            "1   1        49.625  24.22231  578.4844  1625.6400  30.35596   99.55273   \n",
            "2   2        52.000   7.00000  566.1000  1912.9250  65.62500  100.14000   \n",
            "3   3        62.400   7.25000  560.1000   277.0632  54.81250   90.64000   \n",
            "4   4        62.900  23.25000  593.7000    53.6448  73.43750   99.91000   \n",
            "\n",
            "         ng  failure  \n",
            "0   99.6400        1  \n",
            "1   91.3866        0  \n",
            "2   90.9600        1  \n",
            "3  100.2800        0  \n",
            "4   92.1700        0  \n"
          ]
        }
      ]
    }
  ]
}