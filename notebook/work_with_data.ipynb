{
  "nbformat": 4,
  "nbformat_minor": 0,
  "metadata": {
    "colab": {
      "provenance": [],
      "authorship_tag": "ABX9TyPHou2ETNwM+WG3UKdxq6ZG"
    },
    "kernelspec": {
      "name": "python3",
      "display_name": "Python 3"
    },
    "language_info": {
      "name": "python"
    }
  },
  "cells": [
    {
      "cell_type": "markdown",
      "source": [
        "# Notebook per pre-elaborazione dei dati\n",
        "\n",
        "Di seguito:\n",
        "- verranno prelevati i dati e resi disponibili su variabili;\n",
        "- saranno effettuate operazioni sui dati per avvicinarsi a distribuzioni gaussiane;\n",
        "- verranno create nuove feature create a partire da quelle presenti e sarà valutata la loro significatività"
      ],
      "metadata": {
        "id": "CIs0Jhd77joY"
      }
    },
    {
      "cell_type": "code",
      "execution_count": null,
      "metadata": {
        "id": "1vBLt0MJ7fSI"
      },
      "outputs": [],
      "source": []
    }
  ]
}