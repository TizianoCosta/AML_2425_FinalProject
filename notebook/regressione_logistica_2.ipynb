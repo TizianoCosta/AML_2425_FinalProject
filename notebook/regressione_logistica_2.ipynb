{
  "nbformat": 4,
  "nbformat_minor": 0,
  "metadata": {
    "colab": {
      "provenance": [],
      "toc_visible": true
    },
    "kernelspec": {
      "name": "python3",
      "display_name": "Python 3"
    },
    "language_info": {
      "name": "python"
    }
  },
  "cells": [
    {
      "cell_type": "markdown",
      "source": [
        "# Notebook per regressione lineare\n",
        "\n",
        "Di seguito:\n",
        "- verrà implementato l'algoritmo di regressione logistica"
      ],
      "metadata": {
        "id": "CIs0Jhd77joY"
      }
    },
    {
      "cell_type": "markdown",
      "metadata": {
        "id": "dMd2ihQ1ZpS6"
      },
      "source": [
        "## Scaricamento dei dati"
      ]
    },
    {
      "cell_type": "code",
      "execution_count": 1,
      "metadata": {
        "colab": {
          "base_uri": "https://localhost:8080/"
        },
        "id": "1vBLt0MJ7fSI",
        "outputId": "6741c08c-cc86-47af-ef93-34918487c663"
      },
      "outputs": [
        {
          "output_type": "stream",
          "name": "stdout",
          "text": [
            "Downloading https://phm-datasets.s3.amazonaws.com/Data_Challenge_PHM2024_training_data.zip...\n",
            "Extracted files from https://phm-datasets.s3.amazonaws.com/Data_Challenge_PHM2024_training_data.zip to dataset\n",
            "Download and extraction complete.\n",
            "CSV files found: ['dataset/X_train.csv', 'dataset/y_train.csv']\n"
          ]
        }
      ],
      "source": [
        "# File per scaricare i dati per fare analisi di machine learning\n",
        "\n",
        "import requests\n",
        "import zipfile\n",
        "import io\n",
        "import os\n",
        "\n",
        "# List of URLs to your zipped files on AWS\n",
        "urls = [\n",
        "    \"https://phm-datasets.s3.amazonaws.com/Data_Challenge_PHM2024_training_data.zip\"]\n",
        "\n",
        "# Directory to save the extracted files\n",
        "output_dir = \"dataset\"\n",
        "os.makedirs(output_dir, exist_ok=True)\n",
        "\n",
        "for url in urls:\n",
        "    try:\n",
        "        print(f\"Downloading {url}...\")\n",
        "        response = requests.get(url, stream=True)\n",
        "        response.raise_for_status() # Raise an exception for bad status codes\n",
        "\n",
        "        # Read the zip file from the response content\n",
        "        with zipfile.ZipFile(io.BytesIO(response.content)) as zip_ref:\n",
        "            # Extract all contents to the specified output directory\n",
        "            zip_ref.extractall(output_dir)\n",
        "            print(f\"Extracted files from {url} to {output_dir}\")\n",
        "\n",
        "    except requests.exceptions.RequestException as e:\n",
        "        print(f\"Error downloading {url}: {e}\")\n",
        "    except zipfile.BadZipFile:\n",
        "        print(f\"Error: The downloaded file from {url} is not a valid zip file.\")\n",
        "    except Exception as e:\n",
        "        print(f\"An unexpected error occurred: {e}\")\n",
        "\n",
        "print(\"Download and extraction complete.\")\n",
        "\n",
        "# Now you can access your CSV files in the 'downloaded_data' directory\n",
        "# For example, to list the files in the directory:\n",
        "import glob\n",
        "csv_files = glob.glob(os.path.join(output_dir, \"*.csv\"))\n",
        "print(\"CSV files found:\", csv_files)"
      ]
    },
    {
      "cell_type": "markdown",
      "metadata": {
        "id": "er3mr_yCZyR7"
      },
      "source": [
        "## Estrazione dei dati"
      ]
    },
    {
      "cell_type": "code",
      "execution_count": 2,
      "metadata": {
        "colab": {
          "base_uri": "https://localhost:8080/"
        },
        "id": "VRFm7gIdR48e",
        "outputId": "a34b35a9-f53c-47ff-e91c-a67f5c383dff"
      },
      "outputs": [
        {
          "output_type": "stream",
          "name": "stdout",
          "text": [
            "   id  trq_measured       oat       mgt         pa       ias         np  \\\n",
            "0   0        54.100   2.00000  544.5000   212.1408  74.56250   89.18000   \n",
            "1   1        49.625  24.22231  578.4844  1625.6400  30.35596   99.55273   \n",
            "2   2        52.000   7.00000  566.1000  1912.9250  65.62500  100.14000   \n",
            "3   3        62.400   7.25000  560.1000   277.0632  54.81250   90.64000   \n",
            "4   4        62.900  23.25000  593.7000    53.6448  73.43750   99.91000   \n",
            "\n",
            "         ng  y_target  \n",
            "0   99.6400         1  \n",
            "1   91.3866         0  \n",
            "2   90.9600         1  \n",
            "3  100.2800         0  \n",
            "4   92.1700         0  \n"
          ]
        }
      ],
      "source": [
        "import pandas as pd\n",
        "\n",
        "def load_data(x_path, y_path):\n",
        "  \"\"\"\n",
        "  Loads X.csv and the second column of y.csv into a single pandas DataFrame.\n",
        "\n",
        "  Args:\n",
        "    x_path (str): The path to the X.csv file.\n",
        "    y_path (str): The path to the y.csv file.\n",
        "\n",
        "  Returns:\n",
        "    pandas.DataFrame: A DataFrame containing the data from X.csv\n",
        "                      and the second column of y.csv.\n",
        "  \"\"\"\n",
        "  x = pd.read_csv(x_path)\n",
        "  y = pd.read_csv(y_path)\n",
        "\n",
        "  # Assuming y has at least 2 columns and the second column is at index 1\n",
        "  if y.shape[1] > 1:\n",
        "    combined_data = x.copy()\n",
        "    combined_data['y_target'] = y.iloc[:, 1]\n",
        "    return combined_data\n",
        "  else:\n",
        "    print(\"Error: y.csv does not have a second column.\")\n",
        "    return x\n",
        "\n",
        "# Example usage:\n",
        "# Assuming your files are in the 'dataset' directory as per the preceding code\n",
        "x_path = 'dataset/X_train.csv'\n",
        "y_path = 'dataset/y_train.csv'\n",
        "\n",
        "data = load_data(x_path, y_path)\n",
        "\n",
        "# You can now work with the 'data' DataFrame\n",
        "print(data.head())\n"
      ]
    },
    {
      "cell_type": "markdown",
      "metadata": {
        "id": "L_-Gtljcq3v4"
      },
      "source": [
        "## Creazione training-set testing-set"
      ]
    },
    {
      "cell_type": "code",
      "execution_count": 3,
      "metadata": {
        "colab": {
          "base_uri": "https://localhost:8080/"
        },
        "id": "tqia2aOJX_MR",
        "outputId": "49d5484e-3b68-4282-8cfe-d45bff9f7413"
      },
      "outputs": [
        {
          "output_type": "stream",
          "name": "stdout",
          "text": [
            "Dimensione data_train: (594100, 9)\n",
            "Dimensione data_test: (148525, 9)\n"
          ]
        }
      ],
      "source": [
        "from sklearn.model_selection import train_test_split\n",
        "\n",
        "data_train, data_test = train_test_split(data, test_size=0.2, random_state=42)\n",
        "\n",
        "print(\"Dimensione data_train:\", data_train.shape)\n",
        "print(\"Dimensione data_test:\", data_test.shape)"
      ]
    },
    {
      "cell_type": "code",
      "source": [
        "# Useful package\n",
        "import requests\n",
        "import zipfile\n",
        "import io\n",
        "import os\n",
        "\n",
        "import pandas as pd\n",
        "import numpy as np\n",
        "\n",
        "from sklearn.decomposition import PCA\n",
        "from sklearn.preprocessing import MinMaxScaler\n",
        "\n",
        "import matplotlib.pyplot as plt\n",
        "import seaborn as sns\n",
        "\n",
        "\n",
        "\n",
        "\n",
        "\n",
        "\n",
        "\n",
        "\n",
        "\n",
        "def transform_with_custom_root(df, column_name, root_degree):\n",
        "  \"\"\"\n",
        "  Applies a custom root transformation (1/root_degree power) to a column.\n",
        "  Handles positive, negative, and zero values appropriately based on the root degree.\n",
        "\n",
        "  Args:\n",
        "    df (pd.DataFrame): The input DataFrame.\n",
        "    column_name (str): The name of the column to transform.\n",
        "    root_degree (float): The degree of the root (e.g., 2 for square root, 3 for cube root).\n",
        "\n",
        "  Returns:\n",
        "    pd.DataFrame: The DataFrame with the transformed column.\n",
        "  \"\"\"\n",
        "  new_column_name = f'{column_name}_root_{root_degree:.2f}_transformed'\n",
        "\n",
        "  if root_degree == 0:\n",
        "      raise ValueError(\"Root degree cannot be zero.\")\n",
        "  elif root_degree % 2 == 0:  # Even root\n",
        "      # For even roots, we can only take the root of non-negative numbers\n",
        "      if (df[column_name] < 0).any():\n",
        "          print(f\"Warning: Column '{column_name}' contains negative values. Cannot apply even root directly.\")\n",
        "          # You might choose to handle this by taking the root of the absolute value,\n",
        "          # or setting negative values to NaN, depending on your data context.\n",
        "          # Here, we'll take the root of the absolute value for demonstration.\n",
        "          df[new_column_name] = np.power(np.abs(df[column_name]), 1/root_degree)\n",
        "      else:\n",
        "          df[new_column_name] = np.power(df[column_name], 1/root_degree)\n",
        "  else:  # Odd root\n",
        "      # Odd roots can handle positive, negative, and zero values\n",
        "      df[new_column_name] = np.sign(df[column_name]) * np.power(np.abs(df[column_name]), 1/root_degree)\n",
        "\n",
        "  return df\n",
        "\n",
        "# Example usage with a custom root (e.g., 1.5)\n",
        "# custom_root_degree = 2.35\n",
        "# data_train = transform_with_custom_root(data_train.copy(), 'power_avail', custom_root_degree)\n",
        "\n",
        "\n",
        "def create_binned_qualitative_variable(df, column_name, num_bins, strategy='quantile'):\n",
        "  \"\"\"\n",
        "  Creates a qualitative (categorical) variable by binning a numerical column.\n",
        "\n",
        "  Args:\n",
        "    df (pd.DataFrame): The input DataFrame.\n",
        "    column_name (str): The name of the numerical column to bin.\n",
        "    num_bins (int): The desired number of bins.\n",
        "    strategy (str): The strategy to use for binning. 'quantile' uses quantiles\n",
        "                    to ensure bins have approximately equal numbers of observations.\n",
        "                    'uniform' creates bins with equal widths. Default is 'quantile'.\n",
        "\n",
        "  Returns:\n",
        "    pd.DataFrame: The DataFrame with a new qualitative column.\n",
        "                  The new column name will be f'{column_name}_binned_{num_bins}_{strategy}'.\n",
        "  \"\"\"\n",
        "  if column_name not in df.columns:\n",
        "    raise ValueError(f\"La colonna '{column_name}' non è presente nel DataFrame.\")\n",
        "  if num_bins <= 1:\n",
        "      raise ValueError(\"Il numero di bins deve essere maggiore di 1.\")\n",
        "\n",
        "  new_column_name = f'{column_name}_binned_{num_bins}_{strategy}'\n",
        "\n",
        "  if strategy == 'quantile':\n",
        "    # Use qcut to create bins based on quantiles (approximately equal number of observations)\n",
        "    # `duplicates='drop'` handles cases where quantile boundaries are not unique,\n",
        "    # which can happen with skewed or discrete data.\n",
        "    df[new_column_name] = pd.qcut(df[column_name], q=num_bins, labels=False, duplicates='drop')\n",
        "  elif strategy == 'uniform':\n",
        "    # Use cut to create bins of equal width\n",
        "    df[new_column_name] = pd.cut(df[column_name], bins=num_bins, labels=False, include_lowest=True)\n",
        "  else:\n",
        "    raise ValueError(f\"Strategia di binning non valida: '{strategy}'. Scegliere tra 'quantile' o 'uniform'.\")\n",
        "\n",
        "  # Convert the binned column to object/category type if needed, or keep as int for simplicity\n",
        "  # Here we keep it as int representing the bin number\n",
        "\n",
        "  return df\n",
        "\n",
        "# Example usage for 'indicated_air_speed':\n",
        "# num_bins_indicated_air_speed = 5 # Define the number of bins\n",
        "# binning_strategy = 'quantile' # Or 'uniform'\n",
        "\n",
        "#data_train = create_binned_qualitative_variable(\n",
        "#    data_train.copy(),\n",
        "#    'indicated_air_speed',\n",
        "#    num_bins_indicated_air_speed,\n",
        "#    strategy=binning_strategy\n",
        "#)\n",
        "\n",
        "\n",
        "\n",
        "\n",
        "## PCA per indicated_air_speed e compressor_speed\n",
        "# Select the columns for PCA\n",
        "# features_for_pca = data_train[['compressor_speed', 'net_power']]\n",
        "# Initialize PCA with 1 component (to combine the two variables)\n",
        "# pca = PCA(n_components=1)\n",
        "# Fit PCA on the selected features and transform them\n",
        "# data_train['compressor_speed_net_power_pca'] = pca.fit_transform(features_for_pca)\n",
        "\n",
        "\n",
        "\n",
        "## Creazione di torque_times_temp\n",
        "\n",
        "# data_train['torque_times_temp'] = data_train['torque_meas'] * data_train['outside_air_temp']\n",
        "\n",
        "\n",
        "\n",
        "\n",
        "\n",
        "\n",
        "\n",
        "\n",
        "\n",
        "\n",
        "# Creazione pipeline\n",
        "def prepare_data_pipeline(x_path, y_path, new_column_names=None,\n",
        "                          root_transformations=None,\n",
        "                          binning_config=None,\n",
        "                          standardize=True,\n",
        "                          drop_index_col='idx'):\n",
        "    \"\"\"\n",
        "    Esegue la pipeline completa di preprocessing.\n",
        "\n",
        "    Args:\n",
        "        x_path (str): path al file X_train.csv\n",
        "        y_path (str): path al file y_train.csv\n",
        "        new_column_names (list): lista di nuovi nomi colonne (opzionale)\n",
        "        root_transformations (dict): dict {colonna: radice}\n",
        "        binning_config (dict): dict {colonna: (num_bins, strategia)}\n",
        "        standardize (bool): se standardizzare le colonne numeriche\n",
        "        drop_index_col (str): nome della colonna da droppare (opzionale)\n",
        "\n",
        "    Returns:\n",
        "        pd.DataFrame: DataFrame preprocessato pronto per il training\n",
        "    \"\"\"\n",
        "    df = load_training_data(x_path, y_path)\n",
        "\n",
        "    if new_column_names:\n",
        "        df = rename_dataframe_columns(df, new_column_names + ['y_target'])\n",
        "\n",
        "    if drop_index_col in df.columns:\n",
        "        df = df.drop(drop_index_col, axis=1)\n",
        "\n",
        "    # Trasformazioni custom root\n",
        "    if root_transformations:\n",
        "        for col, deg in root_transformations.items():\n",
        "            df = transform_with_custom_root(df, col, deg)\n",
        "\n",
        "    # Binning\n",
        "    if binning_config:\n",
        "        for col, (n_bins, strategy) in binning_config.items():\n",
        "            df = create_binned_qualitative_variable(df, col, n_bins, strategy)\n",
        "\n",
        "    # PCA: esempio hardcoded ma puoi parametrizzare se vuoi\n",
        "    if {'compressor_speed', 'net_power'}.issubset(df.columns):\n",
        "        pca = PCA(n_components=1)\n",
        "        df['compressor_speed_net_power_pca'] = pca.fit_transform(df[['compressor_speed', 'net_power']])\n",
        "\n",
        "    # Feature engineering manuale\n",
        "    if {'torque_meas', 'outside_air_temp'}.issubset(df.columns):\n",
        "        df['torque_times_temp'] = df['torque_meas'] * df['outside_air_temp']\n",
        "\n",
        "    # Rimuovi colonne non necessarie\n",
        "    columns_to_drop = ['compressor_speed','net_power','indicated_air_speed','power_avail']  # Aggiungi qui altre colonne da rimuovere\n",
        "    df = df.drop(columns=columns_to_drop, errors='ignore')\n",
        "\n",
        "    # Assicurati che 'y_target' sia l'ultima colonna\n",
        "    if 'y_target' in df.columns:\n",
        "        cols = [col for col in df.columns if col != 'y_target'] + ['y_target']\n",
        "        df = df[cols]\n",
        "    else:\n",
        "        print(\"Warning: 'y_target' column not found in DataFrame. It will not be moved to the end.\")\n",
        "\n",
        "    # Assicurati che il DataFrame non abbia colonne duplicate\n",
        "    df = df.loc[:, ~df.columns.duplicated()]\n",
        "\n",
        "    # Assicurati che il DataFrame non abbia valori NaN\n",
        "    if df.isnull().values.any():\n",
        "        print(\"Warning: DataFrame contains NaN values. They will be filled with 0.\")\n",
        "        df = df.fillna(0)\n",
        "\n",
        "    # Assicurati che il DataFrame non abbia valori infiniti\n",
        "    if np.isinf(df.values).any():\n",
        "        print(\"Warning: DataFrame contains infinite values. They will be replaced with 0.\")\n",
        "        df.replace([np.inf, -np.inf], 0, inplace=True)\n",
        "\n",
        "    # Standardizzazione\n",
        "    if standardize:\n",
        "        target = 'y_target'\n",
        "        numerical_cols = df.select_dtypes(include=['float64', 'int64']).columns.tolist()\n",
        "        columns_to_standardize = [col for col in numerical_cols if col != target]\n",
        "        df = standardize_columns(df, columns_to_standardize)\n",
        "\n",
        "    return df\n",
        "\n",
        "\n",
        "\n",
        "### Esempio di utilizzo della pipeline\n",
        "x_path = 'dataset/X_data.csv'\n",
        "y_path = 'dataset/y_data.csv'\n",
        "\n",
        "# Configurazioni opzionali\n",
        "new_column_names = ['idx', 'torque_meas', 'outside_air_temp', 'mean_gas_temp',\n",
        "                    'power_avail', 'indicated_air_speed', 'net_power', 'compressor_speed']\n",
        "\n",
        "root_transform = {'power_avail': 2.35}\n",
        "binning = {'indicated_air_speed': (5, 'quantile')}\n",
        "\n",
        "data_ready = prepare_data_pipeline(\n",
        "    x_path, y_path,\n",
        "    new_column_names=new_column_names,\n",
        "    root_transformations=root_transform,\n",
        "    binning_config=binning\n",
        ")\n",
        "\n",
        "# Esempio di stampa del DataFrame preprocessato\n",
        "print(data_ready.head())\n",
        "print(data_ready.describe())\n",
        "\n",
        "n_cols = 3\n",
        "n_rows = (len(data_ready.columns) + n_cols - 1) // n_cols\n",
        "plt.figure(figsize=(15, n_rows * 4))\n",
        "for i, col in enumerate(data_ready):\n",
        "    plt.subplot(n_rows, n_cols, i + 1)\n",
        "    sns.histplot(data_ready[col], bins=50, kde=True)\n",
        "    plt.title(f'Distribution of {col}')\n",
        "    plt.xlabel(col)\n",
        "    plt.ylabel('Frequency')\n",
        "\n",
        "plt.tight_layout()\n",
        "plt.savefig(\"grafico.png\")\n",
        "\n",
        "# data_ready ora è pronto per essere usato in un modello"
      ],
      "metadata": {
        "id": "SYD6QZ_spo-d",
        "colab": {
          "base_uri": "https://localhost:8080/",
          "height": 332
        },
        "outputId": "c1dccf6d-f985-483b-ed37-7cddc4568ba9"
      },
      "execution_count": 4,
      "outputs": [
        {
          "output_type": "error",
          "ename": "NameError",
          "evalue": "name 'load_training_data' is not defined",
          "traceback": [
            "\u001b[0;31m---------------------------------------------------------------------------\u001b[0m",
            "\u001b[0;31mNameError\u001b[0m                                 Traceback (most recent call last)",
            "\u001b[0;32m<ipython-input-4-ed17a16c8fe3>\u001b[0m in \u001b[0;36m<cell line: 0>\u001b[0;34m()\u001b[0m\n\u001b[1;32m    230\u001b[0m \u001b[0mbinning\u001b[0m \u001b[0;34m=\u001b[0m \u001b[0;34m{\u001b[0m\u001b[0;34m'indicated_air_speed'\u001b[0m\u001b[0;34m:\u001b[0m \u001b[0;34m(\u001b[0m\u001b[0;36m5\u001b[0m\u001b[0;34m,\u001b[0m \u001b[0;34m'quantile'\u001b[0m\u001b[0;34m)\u001b[0m\u001b[0;34m}\u001b[0m\u001b[0;34m\u001b[0m\u001b[0;34m\u001b[0m\u001b[0m\n\u001b[1;32m    231\u001b[0m \u001b[0;34m\u001b[0m\u001b[0m\n\u001b[0;32m--> 232\u001b[0;31m data_ready = prepare_data_pipeline(\n\u001b[0m\u001b[1;32m    233\u001b[0m     \u001b[0mx_path\u001b[0m\u001b[0;34m,\u001b[0m \u001b[0my_path\u001b[0m\u001b[0;34m,\u001b[0m\u001b[0;34m\u001b[0m\u001b[0;34m\u001b[0m\u001b[0m\n\u001b[1;32m    234\u001b[0m     \u001b[0mnew_column_names\u001b[0m\u001b[0;34m=\u001b[0m\u001b[0mnew_column_names\u001b[0m\u001b[0;34m,\u001b[0m\u001b[0;34m\u001b[0m\u001b[0;34m\u001b[0m\u001b[0m\n",
            "\u001b[0;32m<ipython-input-4-ed17a16c8fe3>\u001b[0m in \u001b[0;36mprepare_data_pipeline\u001b[0;34m(x_path, y_path, new_column_names, root_transformations, binning_config, standardize, drop_index_col)\u001b[0m\n\u001b[1;32m    157\u001b[0m         \u001b[0mpd\u001b[0m\u001b[0;34m.\u001b[0m\u001b[0mDataFrame\u001b[0m\u001b[0;34m:\u001b[0m \u001b[0mDataFrame\u001b[0m \u001b[0mpreprocessato\u001b[0m \u001b[0mpronto\u001b[0m \u001b[0mper\u001b[0m \u001b[0mil\u001b[0m \u001b[0mtraining\u001b[0m\u001b[0;34m\u001b[0m\u001b[0;34m\u001b[0m\u001b[0m\n\u001b[1;32m    158\u001b[0m     \"\"\"\n\u001b[0;32m--> 159\u001b[0;31m     \u001b[0mdf\u001b[0m \u001b[0;34m=\u001b[0m \u001b[0mload_training_data\u001b[0m\u001b[0;34m(\u001b[0m\u001b[0mx_path\u001b[0m\u001b[0;34m,\u001b[0m \u001b[0my_path\u001b[0m\u001b[0;34m)\u001b[0m\u001b[0;34m\u001b[0m\u001b[0;34m\u001b[0m\u001b[0m\n\u001b[0m\u001b[1;32m    160\u001b[0m \u001b[0;34m\u001b[0m\u001b[0m\n\u001b[1;32m    161\u001b[0m     \u001b[0;32mif\u001b[0m \u001b[0mnew_column_names\u001b[0m\u001b[0;34m:\u001b[0m\u001b[0;34m\u001b[0m\u001b[0;34m\u001b[0m\u001b[0m\n",
            "\u001b[0;31mNameError\u001b[0m: name 'load_training_data' is not defined"
          ]
        }
      ]
    },
    {
      "cell_type": "markdown",
      "source": [
        "# PIPELINE"
      ],
      "metadata": {
        "id": "lyQkp8iD3x6d"
      }
    },
    {
      "cell_type": "markdown",
      "metadata": {
        "id": "-lpARpCCgreg"
      },
      "source": [
        "## Cambio nome delle feature"
      ]
    },
    {
      "cell_type": "code",
      "execution_count": 5,
      "metadata": {
        "colab": {
          "base_uri": "https://localhost:8080/"
        },
        "id": "NPNHbqucguH5",
        "outputId": "60e8ed49-5476-4dcf-c065-d035c57e18c6"
      },
      "outputs": [
        {
          "output_type": "stream",
          "name": "stdout",
          "text": [
            "Renamed DataFrame (without 'id'):\n",
            "        torque_meas  outside_air_temp  mean_gas_temp  power_avail  \\\n",
            "331067      74.8000            19.500       646.1000    1005.8400   \n",
            "601458      67.0332            20.152       602.4063     958.4962   \n",
            "77053       67.8000             8.000       546.7000      24.3840   \n",
            "664037      53.9000             5.500       532.1000     360.8832   \n",
            "346977      73.3000            17.750       636.3000    1025.9570   \n",
            "\n",
            "        indicated_air_speed  net_power  compressor_speed  health_state  \n",
            "331067             56.00000  100.19000          96.47000             1  \n",
            "601458             96.97656   99.65235          94.02332             0  \n",
            "77053              73.68750  100.22000          91.61000             0  \n",
            "664037             61.87500   88.91000          99.78000             0  \n",
            "346977             89.50000   99.98000          95.95000             1  \n"
          ]
        }
      ],
      "source": [
        "import pandas as pd\n",
        "from sklearn.base import BaseEstimator, TransformerMixin\n",
        "from sklearn.pipeline import Pipeline\n",
        "\n",
        "class FeatureRenamer(BaseEstimator, TransformerMixin):\n",
        "    def __init__(self, column_names):\n",
        "        if not isinstance(column_names, list):\n",
        "            raise TypeError(\"column_names must be a list.\")\n",
        "        self.column_names = column_names\n",
        "\n",
        "    def fit(self, X, y=None):\n",
        "        return self\n",
        "\n",
        "    def transform(self, X):\n",
        "        is_tuple = isinstance(X, tuple)\n",
        "        if is_tuple:\n",
        "            if not X:\n",
        "                raise ValueError(\"Input tuple is empty.\")\n",
        "            df = X[0]\n",
        "            rest = X[1:]\n",
        "        else:\n",
        "            df = X\n",
        "            rest = ()\n",
        "\n",
        "        if not isinstance(df, pd.DataFrame):\n",
        "            raise TypeError(\"Input (or first element if tuple) must be a DataFrame.\")\n",
        "\n",
        "        # Drop 'id' column if present\n",
        "        if 'id' in df.columns:\n",
        "            df = df.drop(columns='id')\n",
        "\n",
        "        # Check column count matches\n",
        "        if len(self.column_names) != df.shape[1]:\n",
        "            if len(self.column_names) + 1 == df.shape[1] and 'faulty' in df.columns:\n",
        "                print(\"Detected 'faulty' column, adjusting rename.\")\n",
        "                new_cols = self.column_names + ['faulty']\n",
        "                if len(new_cols) != df.shape[1]:\n",
        "                    raise ValueError(\"Mismatch in column count with 'faulty' included.\")\n",
        "                df_renamed = df.copy()\n",
        "                df_renamed.columns = new_cols\n",
        "            else:\n",
        "                raise ValueError(\"Column count mismatch after dropping 'id'.\")\n",
        "        else:\n",
        "            df_renamed = df.copy()\n",
        "            df_renamed.columns = self.column_names\n",
        "\n",
        "        return (df_renamed,) + rest if rest else df_renamed\n",
        "\n",
        "# ---------------------- Setup ----------------------\n",
        "new_names_for_train_data = [\n",
        "    'torque_meas', 'outside_air_temp', 'mean_gas_temp',\n",
        "    'power_avail', 'indicated_air_speed', 'net_power',\n",
        "    'compressor_speed', 'health_state'\n",
        "]\n",
        "\n",
        "# ---------------------- Pipeline ----------------------\n",
        "pipeline_with_renaming = Pipeline([\n",
        "    ('rename_features', FeatureRenamer(column_names=new_names_for_train_data))\n",
        "])\n",
        "\n",
        "# Apply pipeline\n",
        "data_train_renamed = pipeline_with_renaming.fit_transform(data_train)\n",
        "\n",
        "# ---------------------- Output ----------------------\n",
        "print(\"Renamed DataFrame (without 'id'):\")\n",
        "print(data_train_renamed.head())"
      ]
    },
    {
      "cell_type": "markdown",
      "metadata": {
        "id": "TVwb2LUAdtDE"
      },
      "source": [
        "## Standardizzazione"
      ]
    },
    {
      "cell_type": "code",
      "source": [
        "from sklearn.preprocessing import MinMaxScaler\n",
        "\n",
        "def standardize_columns(df, columns_to_standardize):\n",
        "  \"\"\"\n",
        "  Standardizes specified columns of a pandas DataFrame to have values between 0 and 1\n",
        "  using MinMaxScaler.\n",
        "\n",
        "  Args:\n",
        "    df: The pandas DataFrame to standardize.\n",
        "    columns_to_standardize: A list of column names to standardize.\n",
        "\n",
        "  Returns:\n",
        "    The DataFrame with the specified columns standardized.\n",
        "  \"\"\"\n",
        "  scaler = MinMaxScaler()\n",
        "  df[columns_to_standardize] = scaler.fit_transform(df[columns_to_standardize])\n",
        "  return df\n",
        "\n",
        "# Example usage:\n",
        "# Assuming you want to standardize all numerical columns except the index and the target variable\n",
        "# Identify numerical columns (excluding 'idx' and 'health_state' in this case)\n",
        "numerical_cols = data_train.select_dtypes(include=['float64', 'int64']).columns.tolist()\n",
        "columns_to_standardize = [col for col in numerical_cols if col not in ['idx', 'health_state']]\n",
        "\n",
        "print(f\"\\nColumns to standardize: {columns_to_standardize}\")\n",
        "\n",
        "data_train_standardized = standardize_columns(data_train.copy(), columns_to_standardize)\n",
        "\n",
        "print(\"\\nDataFrame after standardization:\")\n",
        "print(data_train_standardized.head())\n",
        "print(\"\\nDescriptive statistics after standardization:\")\n",
        "print(data_train_standardized.describe())"
      ],
      "metadata": {
        "id": "ZwxwR03k--v_",
        "outputId": "ae8b56b0-a439-4665-a99d-7ad28ccdc7d1",
        "colab": {
          "base_uri": "https://localhost:8080/"
        }
      },
      "execution_count": 6,
      "outputs": [
        {
          "output_type": "stream",
          "name": "stdout",
          "text": [
            "\n",
            "Columns to standardize: ['id', 'trq_measured', 'oat', 'mgt', 'pa', 'ias', 'np', 'ng', 'y_target']\n",
            "\n",
            "DataFrame after standardization:\n",
            "              id  trq_measured       oat       mgt        pa       ias  \\\n",
            "331067  0.445807      0.667650  0.691358  0.698165  0.367293  0.407088   \n",
            "601458  0.809909      0.581407  0.702990  0.527553  0.352972  0.704964   \n",
            "77053   0.103758      0.589922  0.486181  0.310035  0.070412  0.535666   \n",
            "664037  0.894177      0.435575  0.441577  0.253026  0.172200  0.449796   \n",
            "346977  0.467231      0.650994  0.660135  0.659898  0.373378  0.650613   \n",
            "\n",
            "              np        ng  y_target  \n",
            "331067  0.930147  0.576580       1.0  \n",
            "601458  0.897203  0.358480       0.0  \n",
            "77053   0.931985  0.143354       0.0  \n",
            "664037  0.238971  0.871637       0.0  \n",
            "346977  0.917279  0.530226       1.0  \n",
            "\n",
            "Descriptive statistics after standardization:\n",
            "                  id   trq_measured            oat            mgt  \\\n",
            "count  594100.000000  594100.000000  594100.000000  594100.000000   \n",
            "mean        0.499941       0.559990       0.569648       0.487995   \n",
            "std         0.288744       0.147090       0.143898       0.154765   \n",
            "min         0.000000       0.000000       0.000000       0.000000   \n",
            "25%         0.249951       0.460004       0.477260       0.371339   \n",
            "50%         0.499688       0.566603       0.588579       0.477157   \n",
            "75%         0.749984       0.675423       0.673516       0.605232   \n",
            "max         1.000000       1.000000       1.000000       1.000000   \n",
            "\n",
            "                  pa            ias             np             ng  \\\n",
            "count  594100.000000  594100.000000  594100.000000  594100.000000   \n",
            "mean        0.217775       0.576693       0.757844       0.491781   \n",
            "std         0.170352       0.257305       0.244786       0.324028   \n",
            "min         0.000000       0.000000       0.000000       0.000000   \n",
            "25%         0.103880       0.372031       0.632353       0.198622   \n",
            "50%         0.165838       0.642435       0.903785       0.428606   \n",
            "75%         0.240980       0.803726       0.919730       0.882334   \n",
            "max         1.000000       1.000000       1.000000       1.000000   \n",
            "\n",
            "            y_target  \n",
            "count  594100.000000  \n",
            "mean        0.403198  \n",
            "std         0.490540  \n",
            "min         0.000000  \n",
            "25%         0.000000  \n",
            "50%         0.000000  \n",
            "75%         1.000000  \n",
            "max         1.000000  \n"
          ]
        }
      ]
    },
    {
      "cell_type": "code",
      "source": [
        "# prompt: crea una classe che sia compatibile con l'oggetto pipeline di scikit che contenga la funzione transform_with_custom_root standardize_columns\n",
        "\n",
        "class ColumnStandardizer(BaseEstimator, TransformerMixin):\n",
        "    def __init__(self, columns_to_standardize=None):\n",
        "        self.columns_to_standardize = columns_to_standardize\n",
        "        self.scaler = MinMaxScaler()\n",
        "\n",
        "    def fit(self, X, y=None):\n",
        "        if not isinstance(X, pd.DataFrame):\n",
        "            raise TypeError(\"Input must be a DataFrame.\")\n",
        "\n",
        "        if self.columns_to_standardize is None:\n",
        "            # Identify numerical columns excluding the target if present\n",
        "            numerical_cols = X.select_dtypes(include=['float64', 'int64']).columns.tolist()\n",
        "            # Assuming 'y_target' or similar is the target and should not be scaled\n",
        "            # This part might need adjustment based on how your pipeline handles the target column\n",
        "            self._cols_to_fit = [col for col in numerical_cols if col not in ['y_target', 'health_state']] # Exclude common target/index names\n",
        "        else:\n",
        "             if not isinstance(self.columns_to_standardize, (list, tuple)):\n",
        "                 raise TypeError(\"columns_to_standardize must be a list or tuple of column names.\")\n",
        "             # Ensure all specified columns exist in the input DataFrame\n",
        "             missing_cols = [col for col in self.columns_to_standardize if col not in X.columns]\n",
        "             if missing_cols:\n",
        "                 raise ValueError(f\"Columns not found in input DataFrame: {missing_cols}\")\n",
        "             self._cols_to_fit = self.columns_to_standardize\n",
        "\n",
        "        if not self._cols_to_fit:\n",
        "            print(\"Warning: No columns selected for standardization.\")\n",
        "            return self\n",
        "\n",
        "        # Fit the scaler only on the selected numerical columns\n",
        "        self.scaler.fit(X[self._cols_to_fit])\n",
        "        return self\n",
        "\n",
        "    def transform(self, X):\n",
        "        if not isinstance(X, pd.DataFrame):\n",
        "            raise TypeError(\"Input must be a DataFrame.\")\n",
        "        if not hasattr(self, '_cols_to_fit'):\n",
        "             raise RuntimeError(\"The transformer has not been fitted yet.\")\n",
        "\n",
        "        df_standardized = X.copy()\n",
        "\n",
        "        if not self._cols_to_fit:\n",
        "             return df_standardized # Return original if no columns to standardize\n",
        "\n",
        "        # Ensure that the columns to transform are actually present in the input DataFrame\n",
        "        present_cols_to_transform = [col for col in self._cols_to_fit if col in df_standardized.columns]\n",
        "\n",
        "        if not present_cols_to_transform:\n",
        "             print(\"Warning: None of the specified columns for standardization are present in the input DataFrame.\")\n",
        "             return df_standardized\n",
        "\n",
        "        # Transform only the present columns\n",
        "        df_standardized[present_cols_to_transform] = self.scaler.transform(df_standardized[present_cols_to_transform])\n",
        "\n",
        "        return df_standardized\n"
      ],
      "metadata": {
        "id": "REDgtiwT_AGB"
      },
      "execution_count": 7,
      "outputs": []
    },
    {
      "cell_type": "markdown",
      "source": [
        "## Dropping columns"
      ],
      "metadata": {
        "id": "7_oDSKMkD1yu"
      }
    },
    {
      "cell_type": "code",
      "source": [
        "# prompt: crea una trasformazione che droppi certe colonne di un dataset\n",
        "\n",
        "class ColumnDropper(BaseEstimator, TransformerMixin):\n",
        "    def __init__(self, columns_to_drop):\n",
        "        if not isinstance(columns_to_drop, (list, tuple)):\n",
        "            raise TypeError(\"columns_to_drop must be a list or tuple of column names.\")\n",
        "        self.columns_to_drop = columns_to_drop\n",
        "\n",
        "    def fit(self, X, y=None):\n",
        "        # Nothing to fit, but check if columns exist in the input\n",
        "        if not isinstance(X, pd.DataFrame):\n",
        "            raise TypeError(\"Input must be a DataFrame.\")\n",
        "        missing_cols = [col for col in self.columns_to_drop if col not in X.columns]\n",
        "        if missing_cols:\n",
        "            print(f\"Warning: Columns to drop not found in input DataFrame: {missing_cols}. These will be ignored during transform.\")\n",
        "            # Store the columns that are actually present to avoid errors during transform\n",
        "            self._cols_to_drop_present = [col for col in self.columns_to_drop if col in X.columns]\n",
        "        else:\n",
        "            self._cols_to_drop_present = self.columns_to_drop\n",
        "        return self\n",
        "\n",
        "    def transform(self, X):\n",
        "        if not isinstance(X, pd.DataFrame):\n",
        "            raise TypeError(\"Input must be a DataFrame.\")\n",
        "        if not hasattr(self, '_cols_to_drop_present'):\n",
        "             raise RuntimeError(\"The transformer has not been fitted yet.\")\n",
        "\n",
        "        df_dropped = X.copy()\n",
        "        # Drop only the columns that were found during fit\n",
        "        df_dropped = df_dropped.drop(columns=self._cols_to_drop_present, errors='ignore')\n",
        "        return df_dropped"
      ],
      "metadata": {
        "id": "gtiVf-IWD0-I"
      },
      "execution_count": 8,
      "outputs": []
    },
    {
      "cell_type": "markdown",
      "source": [
        "## Radice custom"
      ],
      "metadata": {
        "id": "ZSURPvKHuL8Y"
      }
    },
    {
      "cell_type": "markdown",
      "source": [
        "### Trasformazione in work_with_data"
      ],
      "metadata": {
        "id": "0tSW1aPUtxV9"
      }
    },
    {
      "cell_type": "code",
      "source": [
        "def transform_with_custom_root(df, column_name, root_degree):\n",
        "  \"\"\"\n",
        "  Applies a custom root transformation (1/root_degree power) to a column.\n",
        "  Handles positive, negative, and zero values appropriately based on the root degree.\n",
        "\n",
        "  Args:\n",
        "    df (pd.DataFrame): The input DataFrame.\n",
        "    column_name (str): The name of the column to transform.\n",
        "    root_degree (float): The degree of the root (e.g., 2 for square root, 3 for cube root).\n",
        "\n",
        "  Returns:\n",
        "    pd.DataFrame: The DataFrame with the transformed column.\n",
        "  \"\"\"\n",
        "  new_column_name = f'{column_name}_root_{root_degree:.2f}_transformed'\n",
        "\n",
        "  if root_degree == 0:\n",
        "      raise ValueError(\"Root degree cannot be zero.\")\n",
        "  elif root_degree % 2 == 0:  # Even root\n",
        "      # For even roots, we can only take the root of non-negative numbers\n",
        "      if (df[column_name] < 0).any():\n",
        "          print(f\"Warning: Column '{column_name}' contains negative values. Cannot apply even root directly.\")\n",
        "          # You might choose to handle this by taking the root of the absolute value,\n",
        "          # or setting negative values to NaN, depending on your data context.\n",
        "          # Here, we'll take the root of the absolute value for demonstration.\n",
        "          df[new_column_name] = np.power(np.abs(df[column_name]), 1/root_degree)\n",
        "      else:\n",
        "          df[new_column_name] = np.power(df[column_name], 1/root_degree)\n",
        "  else:  # Odd root\n",
        "      # Odd roots can handle positive, negative, and zero values\n",
        "      df[new_column_name] = np.sign(df[column_name]) * np.power(np.abs(df[column_name]), 1/root_degree)\n",
        "\n",
        "  return df"
      ],
      "metadata": {
        "id": "_UAxC3Cosvjm"
      },
      "execution_count": null,
      "outputs": []
    },
    {
      "cell_type": "markdown",
      "source": [
        "### Trasformazione pipeline"
      ],
      "metadata": {
        "id": "xnmnqu9lwe61"
      }
    },
    {
      "cell_type": "code",
      "source": [
        "# prompt: crea una classe che sia compatibile con l'oggetto pipeline di scikit che contenga la funzione transform_with_custom_root\n",
        "\n",
        "class CustomRootTransformer(BaseEstimator, TransformerMixin):\n",
        "    \"\"\"\n",
        "    A custom transformer to apply a custom root transformation to specified columns.\n",
        "    Compatible with scikit-learn pipelines.\n",
        "\n",
        "    Args:\n",
        "        root_transformations (dict): A dictionary where keys are column names\n",
        "                                     and values are the root degrees to apply.\n",
        "    \"\"\"\n",
        "    def __init__(self, root_transformations=None):\n",
        "        self.root_transformations = root_transformations\n",
        "\n",
        "    def fit(self, X, y=None):\n",
        "        \"\"\"\n",
        "        Fits the transformer. In this case, there's nothing to fit.\n",
        "\n",
        "        Args:\n",
        "            X: Input data (ignored).\n",
        "            y: Target data (ignored).\n",
        "\n",
        "        Returns:\n",
        "            self: The fitted transformer instance.\n",
        "        \"\"\"\n",
        "        return self\n",
        "\n",
        "    def transform(self, X):\n",
        "        \"\"\"\n",
        "        Applies the custom root transformation to the specified columns in the DataFrame.\n",
        "\n",
        "        Args:\n",
        "            X (pd.DataFrame): The input DataFrame.\n",
        "\n",
        "        Returns:\n",
        "            pd.DataFrame: The DataFrame with the transformed columns.\n",
        "        \"\"\"\n",
        "        if not isinstance(X, pd.DataFrame):\n",
        "            raise TypeError(\"Input X must be a pandas DataFrame.\")\n",
        "\n",
        "        df_transformed = X.copy() # Work on a copy to avoid modifying the original DataFrame\n",
        "\n",
        "        if self.root_transformations:\n",
        "            for col, deg in self.root_transformations.items():\n",
        "                if col not in df_transformed.columns:\n",
        "                    print(f\"Warning: Column '{col}' not found in DataFrame. Skipping root transformation.\")\n",
        "                    continue\n",
        "\n",
        "                print(f\"Applying custom root {deg} transformation to column '{col}'...\")\n",
        "                df_transformed = transform_with_custom_root(df_transformed, col, deg)\n",
        "\n",
        "        return df_transformed\n",
        "\n"
      ],
      "metadata": {
        "id": "C0HoEko5tT-V"
      },
      "execution_count": 9,
      "outputs": []
    },
    {
      "cell_type": "markdown",
      "source": [
        "## Binary transformation"
      ],
      "metadata": {
        "id": "CKNFnVhcuRiA"
      }
    },
    {
      "cell_type": "markdown",
      "source": [
        "### Trasformazione work_with_data"
      ],
      "metadata": {
        "id": "teNr1y8MwUHu"
      }
    },
    {
      "cell_type": "code",
      "source": [
        "def create_binned_qualitative_variable(df, column_name, num_bins, strategy='quantile'):\n",
        "  \"\"\"\n",
        "  Creates a qualitative (categorical) variable by binning a numerical column.\n",
        "\n",
        "  Args:\n",
        "    df (pd.DataFrame): The input DataFrame.\n",
        "    column_name (str): The name of the numerical column to bin.\n",
        "    num_bins (int): The desired number of bins.\n",
        "    strategy (str): The strategy to use for binning. 'quantile' uses quantiles\n",
        "                    to ensure bins have approximately equal numbers of observations.\n",
        "                    'uniform' creates bins with equal widths. Default is 'quantile'.\n",
        "\n",
        "  Returns:\n",
        "    pd.DataFrame: The DataFrame with a new qualitative column.\n",
        "                  The new column name will be f'{column_name}_binned_{num_bins}_{strategy}'.\n",
        "  \"\"\"\n",
        "  if column_name not in df.columns:\n",
        "    raise ValueError(f\"La colonna '{column_name}' non è presente nel DataFrame.\")\n",
        "  if num_bins <= 1:\n",
        "      raise ValueError(\"Il numero di bins deve essere maggiore di 1.\")\n",
        "\n",
        "  new_column_name = f'{column_name}_binned_{num_bins}_{strategy}'\n",
        "\n",
        "  if strategy == 'quantile':\n",
        "    # Use qcut to create bins based on quantiles (approximately equal number of observations)\n",
        "    # `duplicates='drop'` handles cases where quantile boundaries are not unique,\n",
        "    # which can happen with skewed or discrete data.\n",
        "    df[new_column_name] = pd.qcut(df[column_name], q=num_bins, labels=False, duplicates='drop')\n",
        "  elif strategy == 'uniform':\n",
        "    # Use cut to create bins of equal width\n",
        "    df[new_column_name] = pd.cut(df[column_name], bins=num_bins, labels=False, include_lowest=True)\n",
        "  else:\n",
        "    raise ValueError(f\"Strategia di binning non valida: '{strategy}'. Scegliere tra 'quantile' o 'uniform'.\")\n",
        "\n",
        "  # Convert the binned column to object/category type if needed, or keep as int for simplicity\n",
        "  # Here we keep it as int representing the bin number\n",
        "\n",
        "  return df"
      ],
      "metadata": {
        "id": "eSLqiujBulI1"
      },
      "execution_count": 10,
      "outputs": []
    },
    {
      "cell_type": "markdown",
      "source": [
        "### Trasformazione pipeline"
      ],
      "metadata": {
        "id": "ajBPOBOJutTt"
      }
    },
    {
      "cell_type": "code",
      "source": [
        "# prompt: crea una classe che sia compatibile con l'oggetto pipeline di scikit che contenga la funzione  create_binned_qualitative_variable\n",
        "\n",
        "class BinnedQualitativeTransformer(BaseEstimator, TransformerMixin):\n",
        "    \"\"\"\n",
        "    A custom transformer to create binned qualitative (categorical) variables\n",
        "    from numerical columns. Compatible with scikit-learn pipelines.\n",
        "\n",
        "    Args:\n",
        "        binning_config (dict): A dictionary where keys are column names\n",
        "                               and values are tuples (num_bins, strategy).\n",
        "                               Strategy can be 'quantile' or 'uniform'.\n",
        "    \"\"\"\n",
        "    def __init__(self, binning_config=None):\n",
        "        self.binning_config = binning_config\n",
        "\n",
        "    def fit(self, X, y=None):\n",
        "        \"\"\"\n",
        "        Fits the transformer. In this case, there's nothing to fit.\n",
        "\n",
        "        Args:\n",
        "            X: Input data (ignored).\n",
        "            y: Target data (ignored).\n",
        "\n",
        "        Returns:\n",
        "            self: The fitted transformer instance.\n",
        "        \"\"\"\n",
        "        return self\n",
        "\n",
        "    def transform(self, X):\n",
        "        \"\"\"\n",
        "        Applies the binning transformation to the specified columns in the DataFrame.\n",
        "\n",
        "        Args:\n",
        "            X (pd.DataFrame): The input DataFrame.\n",
        "\n",
        "        Returns:\n",
        "            pd.DataFrame: The DataFrame with the new binned qualitative columns.\n",
        "        \"\"\"\n",
        "        if not isinstance(X, pd.DataFrame):\n",
        "            raise TypeError(\"Input X must be a pandas DataFrame.\")\n",
        "\n",
        "        df_transformed = X.copy() # Work on a copy to avoid modifying the original DataFrame\n",
        "\n",
        "        if self.binning_config:\n",
        "            for col, (num_bins, strategy) in self.binning_config.items():\n",
        "                if col not in df_transformed.columns:\n",
        "                    print(f\"Warning: Column '{col}' not found in DataFrame. Skipping binning transformation.\")\n",
        "                    continue\n",
        "\n",
        "                print(f\"Applying binning transformation to column '{col}' with {num_bins} bins and strategy '{strategy}'...\")\n",
        "                df_transformed = create_binned_qualitative_variable(df_transformed, col, num_bins, strategy)\n",
        "\n",
        "        return df_transformed\n"
      ],
      "metadata": {
        "id": "cXcKS456u7AM"
      },
      "execution_count": 11,
      "outputs": []
    },
    {
      "cell_type": "markdown",
      "source": [
        "## Compressor speed net power"
      ],
      "metadata": {
        "id": "5t1DNnKZvv0i"
      }
    },
    {
      "cell_type": "markdown",
      "source": [
        "### Trasformazione con work_with_data"
      ],
      "metadata": {
        "id": "Tkns2nkBx9wC"
      }
    },
    {
      "cell_type": "code",
      "source": [
        "# Select the columns for PCA\n",
        "features_for_pca = data_train[['compressor_speed', 'net_power']]\n",
        "\n",
        "# Initialize PCA with 1 component (to combine the two variables)\n",
        "pca = PCA(n_components=1)\n",
        "\n",
        "# Fit PCA on the selected features and transform them\n",
        "data_train['compressor_speed_net_power_pca'] = pca.fit_transform(features_for_pca)"
      ],
      "metadata": {
        "id": "vvEG6L_0xDds",
        "outputId": "62c2069c-58d9-4c01-b088-3143c343e5a0",
        "colab": {
          "base_uri": "https://localhost:8080/",
          "height": 356
        }
      },
      "execution_count": 12,
      "outputs": [
        {
          "output_type": "error",
          "ename": "KeyError",
          "evalue": "\"None of [Index(['compressor_speed', 'net_power'], dtype='object')] are in the [columns]\"",
          "traceback": [
            "\u001b[0;31m---------------------------------------------------------------------------\u001b[0m",
            "\u001b[0;31mKeyError\u001b[0m                                  Traceback (most recent call last)",
            "\u001b[0;32m<ipython-input-12-91566e13ce97>\u001b[0m in \u001b[0;36m<cell line: 0>\u001b[0;34m()\u001b[0m\n\u001b[1;32m      1\u001b[0m \u001b[0;31m# Select the columns for PCA\u001b[0m\u001b[0;34m\u001b[0m\u001b[0;34m\u001b[0m\u001b[0m\n\u001b[0;32m----> 2\u001b[0;31m \u001b[0mfeatures_for_pca\u001b[0m \u001b[0;34m=\u001b[0m \u001b[0mdata_train\u001b[0m\u001b[0;34m[\u001b[0m\u001b[0;34m[\u001b[0m\u001b[0;34m'compressor_speed'\u001b[0m\u001b[0;34m,\u001b[0m \u001b[0;34m'net_power'\u001b[0m\u001b[0;34m]\u001b[0m\u001b[0;34m]\u001b[0m\u001b[0;34m\u001b[0m\u001b[0;34m\u001b[0m\u001b[0m\n\u001b[0m\u001b[1;32m      3\u001b[0m \u001b[0;34m\u001b[0m\u001b[0m\n\u001b[1;32m      4\u001b[0m \u001b[0;31m# Initialize PCA with 1 component (to combine the two variables)\u001b[0m\u001b[0;34m\u001b[0m\u001b[0;34m\u001b[0m\u001b[0m\n\u001b[1;32m      5\u001b[0m \u001b[0mpca\u001b[0m \u001b[0;34m=\u001b[0m \u001b[0mPCA\u001b[0m\u001b[0;34m(\u001b[0m\u001b[0mn_components\u001b[0m\u001b[0;34m=\u001b[0m\u001b[0;36m1\u001b[0m\u001b[0;34m)\u001b[0m\u001b[0;34m\u001b[0m\u001b[0;34m\u001b[0m\u001b[0m\n",
            "\u001b[0;32m/usr/local/lib/python3.11/dist-packages/pandas/core/frame.py\u001b[0m in \u001b[0;36m__getitem__\u001b[0;34m(self, key)\u001b[0m\n\u001b[1;32m   4106\u001b[0m             \u001b[0;32mif\u001b[0m \u001b[0mis_iterator\u001b[0m\u001b[0;34m(\u001b[0m\u001b[0mkey\u001b[0m\u001b[0;34m)\u001b[0m\u001b[0;34m:\u001b[0m\u001b[0;34m\u001b[0m\u001b[0;34m\u001b[0m\u001b[0m\n\u001b[1;32m   4107\u001b[0m                 \u001b[0mkey\u001b[0m \u001b[0;34m=\u001b[0m \u001b[0mlist\u001b[0m\u001b[0;34m(\u001b[0m\u001b[0mkey\u001b[0m\u001b[0;34m)\u001b[0m\u001b[0;34m\u001b[0m\u001b[0;34m\u001b[0m\u001b[0m\n\u001b[0;32m-> 4108\u001b[0;31m             \u001b[0mindexer\u001b[0m \u001b[0;34m=\u001b[0m \u001b[0mself\u001b[0m\u001b[0;34m.\u001b[0m\u001b[0mcolumns\u001b[0m\u001b[0;34m.\u001b[0m\u001b[0m_get_indexer_strict\u001b[0m\u001b[0;34m(\u001b[0m\u001b[0mkey\u001b[0m\u001b[0;34m,\u001b[0m \u001b[0;34m\"columns\"\u001b[0m\u001b[0;34m)\u001b[0m\u001b[0;34m[\u001b[0m\u001b[0;36m1\u001b[0m\u001b[0;34m]\u001b[0m\u001b[0;34m\u001b[0m\u001b[0;34m\u001b[0m\u001b[0m\n\u001b[0m\u001b[1;32m   4109\u001b[0m \u001b[0;34m\u001b[0m\u001b[0m\n\u001b[1;32m   4110\u001b[0m         \u001b[0;31m# take() does not accept boolean indexers\u001b[0m\u001b[0;34m\u001b[0m\u001b[0;34m\u001b[0m\u001b[0m\n",
            "\u001b[0;32m/usr/local/lib/python3.11/dist-packages/pandas/core/indexes/base.py\u001b[0m in \u001b[0;36m_get_indexer_strict\u001b[0;34m(self, key, axis_name)\u001b[0m\n\u001b[1;32m   6198\u001b[0m             \u001b[0mkeyarr\u001b[0m\u001b[0;34m,\u001b[0m \u001b[0mindexer\u001b[0m\u001b[0;34m,\u001b[0m \u001b[0mnew_indexer\u001b[0m \u001b[0;34m=\u001b[0m \u001b[0mself\u001b[0m\u001b[0;34m.\u001b[0m\u001b[0m_reindex_non_unique\u001b[0m\u001b[0;34m(\u001b[0m\u001b[0mkeyarr\u001b[0m\u001b[0;34m)\u001b[0m\u001b[0;34m\u001b[0m\u001b[0;34m\u001b[0m\u001b[0m\n\u001b[1;32m   6199\u001b[0m \u001b[0;34m\u001b[0m\u001b[0m\n\u001b[0;32m-> 6200\u001b[0;31m         \u001b[0mself\u001b[0m\u001b[0;34m.\u001b[0m\u001b[0m_raise_if_missing\u001b[0m\u001b[0;34m(\u001b[0m\u001b[0mkeyarr\u001b[0m\u001b[0;34m,\u001b[0m \u001b[0mindexer\u001b[0m\u001b[0;34m,\u001b[0m \u001b[0maxis_name\u001b[0m\u001b[0;34m)\u001b[0m\u001b[0;34m\u001b[0m\u001b[0;34m\u001b[0m\u001b[0m\n\u001b[0m\u001b[1;32m   6201\u001b[0m \u001b[0;34m\u001b[0m\u001b[0m\n\u001b[1;32m   6202\u001b[0m         \u001b[0mkeyarr\u001b[0m \u001b[0;34m=\u001b[0m \u001b[0mself\u001b[0m\u001b[0;34m.\u001b[0m\u001b[0mtake\u001b[0m\u001b[0;34m(\u001b[0m\u001b[0mindexer\u001b[0m\u001b[0;34m)\u001b[0m\u001b[0;34m\u001b[0m\u001b[0;34m\u001b[0m\u001b[0m\n",
            "\u001b[0;32m/usr/local/lib/python3.11/dist-packages/pandas/core/indexes/base.py\u001b[0m in \u001b[0;36m_raise_if_missing\u001b[0;34m(self, key, indexer, axis_name)\u001b[0m\n\u001b[1;32m   6247\u001b[0m         \u001b[0;32mif\u001b[0m \u001b[0mnmissing\u001b[0m\u001b[0;34m:\u001b[0m\u001b[0;34m\u001b[0m\u001b[0;34m\u001b[0m\u001b[0m\n\u001b[1;32m   6248\u001b[0m             \u001b[0;32mif\u001b[0m \u001b[0mnmissing\u001b[0m \u001b[0;34m==\u001b[0m \u001b[0mlen\u001b[0m\u001b[0;34m(\u001b[0m\u001b[0mindexer\u001b[0m\u001b[0;34m)\u001b[0m\u001b[0;34m:\u001b[0m\u001b[0;34m\u001b[0m\u001b[0;34m\u001b[0m\u001b[0m\n\u001b[0;32m-> 6249\u001b[0;31m                 \u001b[0;32mraise\u001b[0m \u001b[0mKeyError\u001b[0m\u001b[0;34m(\u001b[0m\u001b[0;34mf\"None of [{key}] are in the [{axis_name}]\"\u001b[0m\u001b[0;34m)\u001b[0m\u001b[0;34m\u001b[0m\u001b[0;34m\u001b[0m\u001b[0m\n\u001b[0m\u001b[1;32m   6250\u001b[0m \u001b[0;34m\u001b[0m\u001b[0m\n\u001b[1;32m   6251\u001b[0m             \u001b[0mnot_found\u001b[0m \u001b[0;34m=\u001b[0m \u001b[0mlist\u001b[0m\u001b[0;34m(\u001b[0m\u001b[0mensure_index\u001b[0m\u001b[0;34m(\u001b[0m\u001b[0mkey\u001b[0m\u001b[0;34m)\u001b[0m\u001b[0;34m[\u001b[0m\u001b[0mmissing_mask\u001b[0m\u001b[0;34m.\u001b[0m\u001b[0mnonzero\u001b[0m\u001b[0;34m(\u001b[0m\u001b[0;34m)\u001b[0m\u001b[0;34m[\u001b[0m\u001b[0;36m0\u001b[0m\u001b[0;34m]\u001b[0m\u001b[0;34m]\u001b[0m\u001b[0;34m.\u001b[0m\u001b[0munique\u001b[0m\u001b[0;34m(\u001b[0m\u001b[0;34m)\u001b[0m\u001b[0;34m)\u001b[0m\u001b[0;34m\u001b[0m\u001b[0;34m\u001b[0m\u001b[0m\n",
            "\u001b[0;31mKeyError\u001b[0m: \"None of [Index(['compressor_speed', 'net_power'], dtype='object')] are in the [columns]\""
          ]
        }
      ]
    },
    {
      "cell_type": "markdown",
      "source": [
        "### Trasformazione pipeline"
      ],
      "metadata": {
        "id": "_upK78g00f3P"
      }
    },
    {
      "cell_type": "code",
      "source": [
        "# prompt: crea una classe che sia compatibile con l'oggetto pipeline di scikit che  come nella cella sopra a partire dalle feature 'compressor_speed' e net_power' tramite il metodo PCA crei una nuova variabile 'compressor_speed_net_power_pca', droppa poi le feature 'net_power' e 'compressor_speed'\n",
        "\n",
        "class PCATransformer(BaseEstimator, TransformerMixin):\n",
        "    \"\"\"\n",
        "    A custom transformer to apply PCA on specified columns and drop the original ones.\n",
        "\n",
        "    Args:\n",
        "        columns_to_pca (list): A list of column names to apply PCA to.\n",
        "        n_components (int): The number of principal components to keep.\n",
        "        new_column_prefix (str): Prefix for the new PCA column name.\n",
        "    \"\"\"\n",
        "    def __init__(self, columns_to_pca, n_components=1, new_column_prefix=\"pca\"):\n",
        "        if not isinstance(columns_to_pca, list) or len(columns_to_pca) < 1:\n",
        "            raise ValueError(\"columns_to_pca must be a list of at least one column name.\")\n",
        "        if n_components < 1 or n_components > len(columns_to_pca):\n",
        "            raise ValueError(\"n_components must be between 1 and the number of columns to PCA.\")\n",
        "\n",
        "        self.columns_to_pca = columns_to_pca\n",
        "        self.n_components = n_components\n",
        "        self.new_column_prefix = new_column_prefix\n",
        "        self.pca_model = None\n",
        "        self.new_column_names = []\n",
        "\n",
        "\n",
        "    def fit(self, X, y=None):\n",
        "        \"\"\"\n",
        "        Fits the PCA model on the specified columns.\n",
        "\n",
        "        Args:\n",
        "            X (pd.DataFrame): The input DataFrame.\n",
        "            y: Target data (ignored).\n",
        "\n",
        "        Returns:\n",
        "            self: The fitted transformer instance.\n",
        "        \"\"\"\n",
        "        if not isinstance(X, pd.DataFrame):\n",
        "            raise TypeError(\"Input X must be a pandas DataFrame.\")\n",
        "\n",
        "        # Check if all specified columns are in the DataFrame\n",
        "        missing_cols = [col for col in self.columns_to_pca if col not in X.columns]\n",
        "        if missing_cols:\n",
        "            raise ValueError(f\"The following columns for PCA were not found in the DataFrame: {missing_cols}\")\n",
        "\n",
        "        print(f\"Fitting PCA on columns: {self.columns_to_pca}\")\n",
        "        self.pca_model = PCA(n_components=self.n_components)\n",
        "        self.pca_model.fit(X[self.columns_to_pca])\n",
        "\n",
        "        # Define the new column names based on the prefix and component number\n",
        "        if self.n_components == 1:\n",
        "            self.new_column_names = [f'{self.new_column_prefix}_{\"_\".join(self.columns_to_pca).replace(\".\", \"_\")}']\n",
        "        else:\n",
        "             self.new_column_names = [f'{self.new_column_prefix}_{i+1}' for i in range(self.n_components)]\n",
        "\n",
        "\n",
        "        return self\n",
        "\n",
        "    def transform(self, X):\n",
        "        \"\"\"\n",
        "        Applies the fitted PCA transformation to the specified columns,\n",
        "        creates the new PCA column(s), and drops the original columns.\n",
        "\n",
        "        Args:\n",
        "            X (pd.DataFrame): The input DataFrame.\n",
        "\n",
        "        Returns:\n",
        "            pd.DataFrame: The DataFrame with the new PCA column(s) and original columns dropped.\n",
        "        \"\"\"\n",
        "        if not isinstance(X, pd.DataFrame):\n",
        "            raise TypeError(\"Input X must be a pandas DataFrame.\")\n",
        "\n",
        "        if self.pca_model is None:\n",
        "            raise RuntimeError(\"PCA model has not been fitted yet. Call fit() first.\")\n",
        "\n",
        "        df_transformed = X.copy() # Work on a copy\n",
        "\n",
        "        # Check if all specified columns are still in the DataFrame before dropping\n",
        "        cols_to_drop_exist = [col for col in self.columns_to_pca if col in df_transformed.columns]\n",
        "\n",
        "        # Apply the transformation\n",
        "        print(f\"Transforming columns {self.columns_to_pca} using PCA...\")\n",
        "        pca_result = self.pca_model.transform(df_transformed[self.columns_to_pca])\n",
        "\n",
        "        # Create new column(s)\n",
        "        if self.n_components == 1:\n",
        "             df_transformed[self.new_column_names[0]] = pca_result[:, 0]\n",
        "        else:\n",
        "            for i, col_name in enumerate(self.new_column_names):\n",
        "                df_transformed[col_name] = pca_result[:, i]\n",
        "\n",
        "\n",
        "        # Drop original columns\n",
        "        print(f\"Dropping original PCA columns: {cols_to_drop_exist}\")\n",
        "        df_transformed = df_transformed.drop(columns=cols_to_drop_exist)\n",
        "\n",
        "        return df_transformed\n",
        "\n",
        "# Example usage:\n",
        "# Assuming 'data_train' is your DataFrame\n",
        "# pca_transformer = PCATransformer(columns_to_pca=['compressor_speed', 'net_power'], n_components=1, new_column_prefix='compressor_speed_net_power')\n",
        "# data_train_pca = pca_transformer.fit_transform(data_train.copy())\n",
        "# print(data_train_pca[['compressor_speed_net_power_pca', 'compressor_speed', 'net_power']].head()) # Check the new column and if originals are dropped"
      ],
      "metadata": {
        "id": "WLF6ZxrzvNPD"
      },
      "execution_count": 13,
      "outputs": []
    },
    {
      "cell_type": "markdown",
      "source": [
        "## Trasformazione torque_times_temp"
      ],
      "metadata": {
        "id": "Zo2U0HdR1Eh4"
      }
    },
    {
      "cell_type": "markdown",
      "source": [
        "### Trasformazione work_with_data"
      ],
      "metadata": {
        "id": "p8qV6N2n1One"
      }
    },
    {
      "cell_type": "code",
      "source": [
        "data_train['torque_times_temp'] = data_train['torque_meas'] * data_train['outside_air_temp']"
      ],
      "metadata": {
        "id": "-tGxNusg0P7W",
        "outputId": "a2ce23c1-8331-4c82-fce5-84676338d019",
        "colab": {
          "base_uri": "https://localhost:8080/",
          "height": 547
        }
      },
      "execution_count": 14,
      "outputs": [
        {
          "output_type": "error",
          "ename": "KeyError",
          "evalue": "'torque_meas'",
          "traceback": [
            "\u001b[0;31m---------------------------------------------------------------------------\u001b[0m",
            "\u001b[0;31mKeyError\u001b[0m                                  Traceback (most recent call last)",
            "\u001b[0;32m/usr/local/lib/python3.11/dist-packages/pandas/core/indexes/base.py\u001b[0m in \u001b[0;36mget_loc\u001b[0;34m(self, key)\u001b[0m\n\u001b[1;32m   3804\u001b[0m         \u001b[0;32mtry\u001b[0m\u001b[0;34m:\u001b[0m\u001b[0;34m\u001b[0m\u001b[0;34m\u001b[0m\u001b[0m\n\u001b[0;32m-> 3805\u001b[0;31m             \u001b[0;32mreturn\u001b[0m \u001b[0mself\u001b[0m\u001b[0;34m.\u001b[0m\u001b[0m_engine\u001b[0m\u001b[0;34m.\u001b[0m\u001b[0mget_loc\u001b[0m\u001b[0;34m(\u001b[0m\u001b[0mcasted_key\u001b[0m\u001b[0;34m)\u001b[0m\u001b[0;34m\u001b[0m\u001b[0;34m\u001b[0m\u001b[0m\n\u001b[0m\u001b[1;32m   3806\u001b[0m         \u001b[0;32mexcept\u001b[0m \u001b[0mKeyError\u001b[0m \u001b[0;32mas\u001b[0m \u001b[0merr\u001b[0m\u001b[0;34m:\u001b[0m\u001b[0;34m\u001b[0m\u001b[0;34m\u001b[0m\u001b[0m\n",
            "\u001b[0;32mindex.pyx\u001b[0m in \u001b[0;36mpandas._libs.index.IndexEngine.get_loc\u001b[0;34m()\u001b[0m\n",
            "\u001b[0;32mindex.pyx\u001b[0m in \u001b[0;36mpandas._libs.index.IndexEngine.get_loc\u001b[0;34m()\u001b[0m\n",
            "\u001b[0;32mpandas/_libs/hashtable_class_helper.pxi\u001b[0m in \u001b[0;36mpandas._libs.hashtable.PyObjectHashTable.get_item\u001b[0;34m()\u001b[0m\n",
            "\u001b[0;32mpandas/_libs/hashtable_class_helper.pxi\u001b[0m in \u001b[0;36mpandas._libs.hashtable.PyObjectHashTable.get_item\u001b[0;34m()\u001b[0m\n",
            "\u001b[0;31mKeyError\u001b[0m: 'torque_meas'",
            "\nThe above exception was the direct cause of the following exception:\n",
            "\u001b[0;31mKeyError\u001b[0m                                  Traceback (most recent call last)",
            "\u001b[0;32m<ipython-input-14-2677497bd94f>\u001b[0m in \u001b[0;36m<cell line: 0>\u001b[0;34m()\u001b[0m\n\u001b[0;32m----> 1\u001b[0;31m \u001b[0mdata_train\u001b[0m\u001b[0;34m[\u001b[0m\u001b[0;34m'torque_times_temp'\u001b[0m\u001b[0;34m]\u001b[0m \u001b[0;34m=\u001b[0m \u001b[0mdata_train\u001b[0m\u001b[0;34m[\u001b[0m\u001b[0;34m'torque_meas'\u001b[0m\u001b[0;34m]\u001b[0m \u001b[0;34m*\u001b[0m \u001b[0mdata_train\u001b[0m\u001b[0;34m[\u001b[0m\u001b[0;34m'outside_air_temp'\u001b[0m\u001b[0;34m]\u001b[0m\u001b[0;34m\u001b[0m\u001b[0;34m\u001b[0m\u001b[0m\n\u001b[0m",
            "\u001b[0;32m/usr/local/lib/python3.11/dist-packages/pandas/core/frame.py\u001b[0m in \u001b[0;36m__getitem__\u001b[0;34m(self, key)\u001b[0m\n\u001b[1;32m   4100\u001b[0m             \u001b[0;32mif\u001b[0m \u001b[0mself\u001b[0m\u001b[0;34m.\u001b[0m\u001b[0mcolumns\u001b[0m\u001b[0;34m.\u001b[0m\u001b[0mnlevels\u001b[0m \u001b[0;34m>\u001b[0m \u001b[0;36m1\u001b[0m\u001b[0;34m:\u001b[0m\u001b[0;34m\u001b[0m\u001b[0;34m\u001b[0m\u001b[0m\n\u001b[1;32m   4101\u001b[0m                 \u001b[0;32mreturn\u001b[0m \u001b[0mself\u001b[0m\u001b[0;34m.\u001b[0m\u001b[0m_getitem_multilevel\u001b[0m\u001b[0;34m(\u001b[0m\u001b[0mkey\u001b[0m\u001b[0;34m)\u001b[0m\u001b[0;34m\u001b[0m\u001b[0;34m\u001b[0m\u001b[0m\n\u001b[0;32m-> 4102\u001b[0;31m             \u001b[0mindexer\u001b[0m \u001b[0;34m=\u001b[0m \u001b[0mself\u001b[0m\u001b[0;34m.\u001b[0m\u001b[0mcolumns\u001b[0m\u001b[0;34m.\u001b[0m\u001b[0mget_loc\u001b[0m\u001b[0;34m(\u001b[0m\u001b[0mkey\u001b[0m\u001b[0;34m)\u001b[0m\u001b[0;34m\u001b[0m\u001b[0;34m\u001b[0m\u001b[0m\n\u001b[0m\u001b[1;32m   4103\u001b[0m             \u001b[0;32mif\u001b[0m \u001b[0mis_integer\u001b[0m\u001b[0;34m(\u001b[0m\u001b[0mindexer\u001b[0m\u001b[0;34m)\u001b[0m\u001b[0;34m:\u001b[0m\u001b[0;34m\u001b[0m\u001b[0;34m\u001b[0m\u001b[0m\n\u001b[1;32m   4104\u001b[0m                 \u001b[0mindexer\u001b[0m \u001b[0;34m=\u001b[0m \u001b[0;34m[\u001b[0m\u001b[0mindexer\u001b[0m\u001b[0;34m]\u001b[0m\u001b[0;34m\u001b[0m\u001b[0;34m\u001b[0m\u001b[0m\n",
            "\u001b[0;32m/usr/local/lib/python3.11/dist-packages/pandas/core/indexes/base.py\u001b[0m in \u001b[0;36mget_loc\u001b[0;34m(self, key)\u001b[0m\n\u001b[1;32m   3810\u001b[0m             ):\n\u001b[1;32m   3811\u001b[0m                 \u001b[0;32mraise\u001b[0m \u001b[0mInvalidIndexError\u001b[0m\u001b[0;34m(\u001b[0m\u001b[0mkey\u001b[0m\u001b[0;34m)\u001b[0m\u001b[0;34m\u001b[0m\u001b[0;34m\u001b[0m\u001b[0m\n\u001b[0;32m-> 3812\u001b[0;31m             \u001b[0;32mraise\u001b[0m \u001b[0mKeyError\u001b[0m\u001b[0;34m(\u001b[0m\u001b[0mkey\u001b[0m\u001b[0;34m)\u001b[0m \u001b[0;32mfrom\u001b[0m \u001b[0merr\u001b[0m\u001b[0;34m\u001b[0m\u001b[0;34m\u001b[0m\u001b[0m\n\u001b[0m\u001b[1;32m   3813\u001b[0m         \u001b[0;32mexcept\u001b[0m \u001b[0mTypeError\u001b[0m\u001b[0;34m:\u001b[0m\u001b[0;34m\u001b[0m\u001b[0;34m\u001b[0m\u001b[0m\n\u001b[1;32m   3814\u001b[0m             \u001b[0;31m# If we have a listlike key, _check_indexing_error will raise\u001b[0m\u001b[0;34m\u001b[0m\u001b[0;34m\u001b[0m\u001b[0m\n",
            "\u001b[0;31mKeyError\u001b[0m: 'torque_meas'"
          ]
        }
      ]
    },
    {
      "cell_type": "markdown",
      "source": [
        "### Trasformazione pipeline"
      ],
      "metadata": {
        "id": "LE6q0V-01NqX"
      }
    },
    {
      "cell_type": "code",
      "source": [
        "# prompt: crea una classe che sia compatibile con l'oggetto pipeline di scikit che,  come nella cella sopra ,faccia il prodotto dalle feature 'torque_meas' e outside_air_temp' , e crei  una nuova feature 'torque_times_temp', droppa poi le feature ''torque_meas' e 'outside_air_temp\n",
        "\n",
        "class TorqueTempFeature(BaseEstimator, TransformerMixin):\n",
        "    \"\"\"\n",
        "    A custom transformer to create the 'torque_times_temp' feature\n",
        "    by multiplying 'torque_meas' and 'outside_air_temp', and then\n",
        "    dropping the original columns. Compatible with scikit-learn pipelines.\n",
        "    \"\"\"\n",
        "    def __init__(self):\n",
        "        pass # No parameters needed for this specific transformation\n",
        "\n",
        "    def fit(self, X, y=None):\n",
        "        \"\"\"\n",
        "        Fits the transformer. In this case, it's a no-op as there's nothing to fit.\n",
        "\n",
        "        Args:\n",
        "            X: Input data (ignored).\n",
        "            y: Target data (ignored).\n",
        "\n",
        "        Returns:\n",
        "            self: The fitted transformer instance.\n",
        "        \"\"\"\n",
        "        # Check if the required columns exist during fit\n",
        "        required_cols = ['torque_meas', 'outside_air_temp']\n",
        "        missing_cols = [col for col in required_cols if col not in X.columns]\n",
        "        if missing_cols:\n",
        "            raise ValueError(f\"The following required columns for TorqueTempFeature were not found in the DataFrame: {missing_cols}\")\n",
        "\n",
        "        return self\n",
        "\n",
        "    def transform(self, X):\n",
        "        \"\"\"\n",
        "        Creates the 'torque_times_temp' feature and drops the original columns.\n",
        "\n",
        "        Args:\n",
        "            X (pd.DataFrame): The input DataFrame.\n",
        "\n",
        "        Returns:\n",
        "            pd.DataFrame: The DataFrame with the new feature and original columns dropped.\n",
        "        \"\"\"\n",
        "        if not isinstance(X, pd.DataFrame):\n",
        "            raise TypeError(\"Input X must be a pandas DataFrame.\")\n",
        "\n",
        "        df_transformed = X.copy() # Work on a copy\n",
        "\n",
        "        required_cols = ['torque_meas', 'outside_air_temp']\n",
        "        missing_cols = [col for col in required_cols if col not in df_transformed.columns]\n",
        "\n",
        "        if missing_cols:\n",
        "             print(f\"Warning: Skipping 'torque_times_temp' creation as columns are missing: {missing_cols}\")\n",
        "             # If columns are missing, just return the dataframe without modification\n",
        "             return df_transformed\n",
        "        else:\n",
        "            print(\"Creating 'torque_times_temp' feature...\")\n",
        "            df_transformed['torque_times_temp'] = df_transformed['torque_meas'] * df_transformed['outside_air_temp']\n",
        "            print(\"Dropping 'torque_meas' and 'outside_air_temp' columns...\")\n",
        "            df_transformed = df_transformed.drop(columns=['torque_meas', 'outside_air_temp'])\n",
        "\n",
        "        return df_transformed\n"
      ],
      "metadata": {
        "id": "Otg3kev41Mx_"
      },
      "execution_count": 15,
      "outputs": []
    },
    {
      "cell_type": "markdown",
      "source": [
        "## Tolgo health_state"
      ],
      "metadata": {
        "id": "VqJ9Muo79Ffr"
      }
    },
    {
      "cell_type": "code",
      "source": [
        "from sklearn.model_selection import train_test_split\n",
        "\n",
        "data_train, data_test = train_test_split(data, test_size=0.2, random_state=42)\n",
        "\n",
        "print(\"Dimensione data_train:\", data_train.shape)\n",
        "print(\"Dimensione data_test:\", data_test.shape)"
      ],
      "metadata": {
        "colab": {
          "base_uri": "https://localhost:8080/"
        },
        "id": "4Scspdf99mOA",
        "outputId": "2dc42580-a746-4135-ad77-b8f33ee5a519"
      },
      "execution_count": 16,
      "outputs": [
        {
          "output_type": "stream",
          "name": "stdout",
          "text": [
            "Dimensione data_train: (594100, 9)\n",
            "Dimensione data_test: (148525, 9)\n"
          ]
        }
      ]
    },
    {
      "cell_type": "code",
      "source": [
        "# prompt: estrai dal dataframe 'data_train' 'helath state' e salvalo in data_train_y e droppalo in data_train\n",
        "\n",
        "data_train_y = data_train['y_target']\n",
        "data_train_x = data_train.drop('y_target', axis=1)\n",
        "\n",
        "print(\"data_train after dropping 'y_target':\")\n",
        "print(data_train.head())\n",
        "print(\"\\ndata_train_y (extracted 'y_target'):\")\n",
        "print(data_train_y.head())\n"
      ],
      "metadata": {
        "id": "0wTAar567nkb",
        "outputId": "33c3c1d8-5833-451a-b050-e7f4925285a1",
        "colab": {
          "base_uri": "https://localhost:8080/"
        }
      },
      "execution_count": 17,
      "outputs": [
        {
          "output_type": "stream",
          "name": "stdout",
          "text": [
            "data_train after dropping 'y_target':\n",
            "            id  trq_measured     oat       mgt         pa       ias  \\\n",
            "331067  331067       74.8000  19.500  646.1000  1005.8400  56.00000   \n",
            "601458  601458       67.0332  20.152  602.4063   958.4962  96.97656   \n",
            "77053    77053       67.8000   8.000  546.7000    24.3840  73.68750   \n",
            "664037  664037       53.9000   5.500  532.1000   360.8832  61.87500   \n",
            "346977  346977       73.3000  17.750  636.3000  1025.9570  89.50000   \n",
            "\n",
            "               np        ng  y_target  \n",
            "331067  100.19000  96.47000         1  \n",
            "601458   99.65235  94.02332         0  \n",
            "77053   100.22000  91.61000         0  \n",
            "664037   88.91000  99.78000         0  \n",
            "346977   99.98000  95.95000         1  \n",
            "\n",
            "data_train_y (extracted 'y_target'):\n",
            "331067    1\n",
            "601458    0\n",
            "77053     0\n",
            "664037    0\n",
            "346977    1\n",
            "Name: y_target, dtype: int64\n"
          ]
        }
      ]
    },
    {
      "cell_type": "markdown",
      "source": [
        "## Pipeline con featurerenamer"
      ],
      "metadata": {
        "id": "xQFom5pu4QRl"
      }
    },
    {
      "cell_type": "code",
      "source": [
        "# prompt: crea una pipeline che contenga FeatureRenamer che venga applicata a data_train_x e ColumnDropper che droppi le colonne di 'indicated_air_spee' e 'net_power'\n",
        "\n",
        "pipeline_full = Pipeline([\n",
        "    ('rename_features', FeatureRenamer(column_names=new_names_for_train_data[:-1])), # Exclude 'health_state' as per data_train_x\n",
        "    ('drop_columns', ColumnDropper(columns_to_drop=['indicated_air_speed', 'net_power']))\n",
        "])\n",
        "\n",
        "# Apply the pipeline to data_train_x\n",
        "data_train_transformed = pipeline_full.fit_transform(data_train_x.copy())\n",
        "\n",
        "print(\"\\nDataFrame after applying the full pipeline:\")\n",
        "print(data_train_transformed.head())\n",
        "print(\"\\nColumns in the transformed DataFrame:\")\n",
        "data_train_transformed.columns\n"
      ],
      "metadata": {
        "id": "DmjfpnoBL3av",
        "outputId": "d5625a66-7751-4c2a-b4d6-6bc8e0c3e553",
        "colab": {
          "base_uri": "https://localhost:8080/"
        }
      },
      "execution_count": 22,
      "outputs": [
        {
          "output_type": "stream",
          "name": "stdout",
          "text": [
            "\n",
            "DataFrame after applying the full pipeline:\n",
            "        torque_meas  outside_air_temp  mean_gas_temp  power_avail  \\\n",
            "331067      74.8000            19.500       646.1000    1005.8400   \n",
            "601458      67.0332            20.152       602.4063     958.4962   \n",
            "77053       67.8000             8.000       546.7000      24.3840   \n",
            "664037      53.9000             5.500       532.1000     360.8832   \n",
            "346977      73.3000            17.750       636.3000    1025.9570   \n",
            "\n",
            "        compressor_speed  \n",
            "331067          96.47000  \n",
            "601458          94.02332  \n",
            "77053           91.61000  \n",
            "664037          99.78000  \n",
            "346977          95.95000  \n",
            "\n",
            "Columns in the transformed DataFrame:\n"
          ]
        },
        {
          "output_type": "execute_result",
          "data": {
            "text/plain": [
              "Index(['torque_meas', 'outside_air_temp', 'mean_gas_temp', 'power_avail',\n",
              "       'compressor_speed'],\n",
              "      dtype='object')"
            ]
          },
          "metadata": {},
          "execution_count": 22
        }
      ]
    },
    {
      "cell_type": "code",
      "source": [
        "# prompt: aggiungi alla pipeline in cui viene applicata feature_renamer: a) la trasfromazione CustomRootTransformer su power_avail b) la trasformazione  create_binned_qualitative_variable suindicated_air_speed c) la trasformazione PCATransformer su 'net_power' e 'compressor_speed' d) la trasformazione TorqueTempFeature su 'torque_meas' e 'outside_air_temp'.\n",
        "\n",
        "import pandas as pd\n",
        "# Add the new transformers to the pipeline\n",
        "pipeline_full = Pipeline([\n",
        "    ('rename_features', FeatureRenamer(column_names=new_names_for_train_data[:-1])),\n",
        "    ('custom_root', CustomRootTransformer(root_transformations={'power_avail': 2.35})), # a)\n",
        "    ('binned_qualitative', BinnedQualitativeTransformer(binning_config={'indicated_air_speed': (5, 'quantile')})), # b)\n",
        "    ('pca_transform', PCATransformer(columns_to_pca=['net_power', 'compressor_speed'], n_components=1, new_column_prefix='pca_net_comp')), # c)\n",
        "    ('torque_temp_feature', TorqueTempFeature()), # d)\n",
        "    ('drop_columns', ColumnDropper(columns_to_drop=['indicated_air_speed', 'net_power', 'compressor_speed', 'power_avail', 'torque_meas', 'outside_air_temp'])), # Drop original columns if they are not dropped by their respective transformers\n",
        "    ('standardize', ColumnStandardizer()) # Assuming you still want standardization\n",
        "])\n",
        "\n",
        "# Apply the pipeline to data_train_x\n",
        "# Need to ensure the intermediate transformations don't drop columns needed by subsequent steps *before* the drop_columns step.\n",
        "# Let's adjust the pipeline steps and the ColumnDropper to be more specific about which originals to drop.\n",
        "# The individual transformers (PCA, TorqueTempFeature) already drop their original columns.\n",
        "# The CustomRootTransformer and BinnedQualitativeTransformer add new columns but keep the originals.\n",
        "# We should adjust the `drop_columns` step to remove the originals we don't want after transformations.\n",
        "\n",
        "# Redefine the pipeline with transformers in a sensible order\n",
        "pipeline_full = Pipeline([\n",
        "    ('rename_features', FeatureRenamer(column_names=new_names_for_train_data[:-1])), # Rename first\n",
        "    ('custom_root', CustomRootTransformer(root_transformations={'power_avail': 2.35})), # Add root transformation\n",
        "    ('binned_qualitative', BinnedQualitativeTransformer(binning_config={'indicated_air_speed': (5, 'quantile')})), # Add binning\n",
        "    ('pca_transform', PCATransformer(columns_to_pca=['net_power', 'compressor_speed'], n_components=1, new_column_prefix='pca_net_comp')), # Apply PCA and drop originals\n",
        "    ('torque_temp_feature', TorqueTempFeature()), # Create torque*temp and drop originals\n",
        "    # Now, drop any original columns that were *not* dropped by the previous transformers but we still want gone\n",
        "    # Based on the requirements and the transformers, 'power_avail' and 'indicated_air_speed' originals might need dropping here.\n",
        "    # However, the PCA and TorqueTempFeature classes *do* drop their originals.\n",
        "    # Let's redefine the columns to drop based on what remains and what we don't want.\n",
        "    # The CustomRootTransformer adds 'power_avail_root_X.XX_transformed' but keeps 'power_avail'.\n",
        "    # The BinnedQualitativeTransformer adds 'indicated_air_speed_binned_X_strategy' but keeps 'indicated_air_speed'.\n",
        "    # So, we need to drop the original 'power_avail' and 'indicated_air_speed'.\n",
        "    ('drop_original_features', ColumnDropper(columns_to_drop=['power_avail', 'indicated_air_speed'])), # Drop the original columns after their transformed versions are created\n",
        "    ('standardize', ColumnStandardizer()) # Standardize all remaining numerical columns\n",
        "])\n",
        "\n",
        "\n",
        "# Apply the pipeline to data_train_x\n",
        "# Ensure data_train_x is a DataFrame\n",
        "if not isinstance(data_train_x, pd.DataFrame):\n",
        "    data_train_x = pd.DataFrame(data_train_x)\n",
        "\n",
        "\n",
        "data_train_transformed = pipeline_full.fit_transform(data_train_x.copy())\n",
        "\n",
        "print(\"\\nDataFrame after applying the updated full pipeline:\")\n",
        "print(data_train_transformed.head())\n",
        "print(\"\\nColumns in the transformed DataFrame:\")\n",
        "data_train_transformed.columns\n"
      ],
      "metadata": {
        "id": "my3L3x0pLrY2",
        "outputId": "cc3bfaa7-1dff-4402-c16f-71e717d2047e",
        "colab": {
          "base_uri": "https://localhost:8080/"
        }
      },
      "execution_count": 23,
      "outputs": [
        {
          "output_type": "stream",
          "name": "stdout",
          "text": [
            "Applying custom root 2.35 transformation to column 'power_avail'...\n",
            "Applying binning transformation to column 'indicated_air_speed' with 5 bins and strategy 'quantile'...\n",
            "Fitting PCA on columns: ['net_power', 'compressor_speed']\n",
            "Transforming columns ['net_power', 'compressor_speed'] using PCA...\n",
            "Dropping original PCA columns: ['net_power', 'compressor_speed']\n",
            "Creating 'torque_times_temp' feature...\n",
            "Dropping 'torque_meas' and 'outside_air_temp' columns...\n",
            "\n",
            "DataFrame after applying the updated full pipeline:\n",
            "        mean_gas_temp  power_avail_root_2.35_transformed  \\\n",
            "331067       0.698165                           0.711213   \n",
            "601458       0.527553                           0.701660   \n",
            "77053        0.310035                           0.337392   \n",
            "664037       0.253026                           0.544911   \n",
            "346977       0.659898                           0.715194   \n",
            "\n",
            "        indicated_air_speed_binned_5_quantile  \\\n",
            "331067                                   0.25   \n",
            "601458                                   0.50   \n",
            "77053                                    0.25   \n",
            "664037                                   0.25   \n",
            "346977                                   0.50   \n",
            "\n",
            "        pca_net_comp_net_power_compressor_speed  torque_times_temp  \n",
            "331067                                 0.740530           0.644852  \n",
            "601458                                 0.804122           0.623529  \n",
            "77053                                  0.909594           0.463536  \n",
            "664037                                 0.187028           0.414863  \n",
            "346977                                 0.750318           0.613678  \n",
            "\n",
            "Columns in the transformed DataFrame:\n"
          ]
        },
        {
          "output_type": "execute_result",
          "data": {
            "text/plain": [
              "Index(['mean_gas_temp', 'power_avail_root_2.35_transformed',\n",
              "       'indicated_air_speed_binned_5_quantile',\n",
              "       'pca_net_comp_net_power_compressor_speed', 'torque_times_temp'],\n",
              "      dtype='object')"
            ]
          },
          "metadata": {},
          "execution_count": 23
        }
      ]
    },
    {
      "cell_type": "code",
      "source": [
        "# prompt:  Aggiungi  ,dopo, alla pipeline della cella sopra la trasformazione 'ColumnDropper' per droppare 'indicated_air_speed' e 'power_avail' . Non usare ColumnStandardizer su 'indicated_air_speed_binned_5_quantile'\n",
        "\n",
        "import pandas as pd\n",
        "# Add the new transformers to the pipeline\n",
        "pipeline_full = Pipeline([\n",
        "    ('rename_features', FeatureRenamer(column_names=new_names_for_train_data[:-1])),\n",
        "    ('custom_root', CustomRootTransformer(root_transformations={'power_avail': 2.35})), # a)\n",
        "    ('binned_qualitative', BinnedQualitativeTransformer(binning_config={'indicated_air_speed': (5, 'quantile')})), # b)\n",
        "    ('pca_transform', PCATransformer(columns_to_pca=['net_power', 'compressor_speed'], n_components=1, new_column_prefix='pca_net_comp')), # c)\n",
        "    ('torque_temp_feature', TorqueTempFeature()), # d)\n",
        "    # Drop original columns if they are not dropped by their respective transformers\n",
        "    # Based on the requirements and the transformers, 'power_avail' and 'indicated_air_speed' originals might need dropping here.\n",
        "    # The CustomRootTransformer adds 'power_avail_root_X.XX_transformed' but keeps 'power_avail'.\n",
        "    # The BinnedQualitativeTransformer adds 'indicated_air_speed_binned_X_strategy' but keeps 'indicated_air_speed'.\n",
        "    # We also need to drop 'indicated_air_speed' and 'power_avail' as requested by the user, *after* the binning and root transformation.\n",
        "    # The PCA and TorqueTempFeature transformers already drop their original columns ('net_power', 'compressor_speed', 'torque_meas', 'outside_air_temp').\n",
        "    ('drop_specific_columns', ColumnDropper(columns_to_drop=['indicated_air_speed', 'power_avail'])), # Drop the original columns as requested\n",
        "    # Specify columns to standardize, excluding the binned column\n",
        "    ('standardize', ColumnStandardizer(columns_to_standardize=[\n",
        "        'torque_times_temp', 'pca_net_comp_net_power_compressor_speed',\n",
        "        'mean_gas_temp', 'power_avail_root_2.35_transformed' # Add the new root-transformed column\n",
        "        # indicated_air_speed_binned_5_quantile is excluded from standardization\n",
        "    ]))\n",
        "])\n",
        "\n",
        "\n",
        "# Apply the pipeline to data_train_x\n",
        "# Ensure data_train_x is a DataFrame\n",
        "if not isinstance(data_train_x, pd.DataFrame):\n",
        "    data_train_x = pd.DataFrame(data_train_x)\n",
        "\n",
        "\n",
        "data_train_transformed = pipeline_full.fit_transform(data_train_x.copy())\n",
        "\n",
        "print(\"\\nDataFrame after applying the updated full pipeline:\")\n",
        "print(data_train_transformed.head())\n",
        "print(\"\\nColumns in the transformed DataFrame:\")\n",
        "data_train_transformed.columns\n"
      ],
      "metadata": {
        "id": "sqAlRBHlNK01",
        "outputId": "12488b5f-b8b1-4cb0-c595-b86d055d1cc5",
        "colab": {
          "base_uri": "https://localhost:8080/"
        }
      },
      "execution_count": 30,
      "outputs": [
        {
          "output_type": "stream",
          "name": "stdout",
          "text": [
            "Applying custom root 2.35 transformation to column 'power_avail'...\n",
            "Applying binning transformation to column 'indicated_air_speed' with 5 bins and strategy 'quantile'...\n",
            "Fitting PCA on columns: ['net_power', 'compressor_speed']\n",
            "Transforming columns ['net_power', 'compressor_speed'] using PCA...\n",
            "Dropping original PCA columns: ['net_power', 'compressor_speed']\n",
            "Creating 'torque_times_temp' feature...\n",
            "Dropping 'torque_meas' and 'outside_air_temp' columns...\n",
            "\n",
            "DataFrame after applying the updated full pipeline:\n",
            "        mean_gas_temp  power_avail_root_2.35_transformed  \\\n",
            "331067       0.698165                           0.711213   \n",
            "601458       0.527553                           0.701660   \n",
            "77053        0.310035                           0.337392   \n",
            "664037       0.253026                           0.544911   \n",
            "346977       0.659898                           0.715194   \n",
            "\n",
            "        indicated_air_speed_binned_5_quantile  \\\n",
            "331067                                      1   \n",
            "601458                                      2   \n",
            "77053                                       1   \n",
            "664037                                      1   \n",
            "346977                                      2   \n",
            "\n",
            "        pca_net_comp_net_power_compressor_speed  torque_times_temp  \n",
            "331067                                 0.740530           0.644852  \n",
            "601458                                 0.804122           0.623529  \n",
            "77053                                  0.909594           0.463536  \n",
            "664037                                 0.187028           0.414863  \n",
            "346977                                 0.750318           0.613678  \n",
            "\n",
            "Columns in the transformed DataFrame:\n"
          ]
        },
        {
          "output_type": "execute_result",
          "data": {
            "text/plain": [
              "Index(['mean_gas_temp', 'power_avail_root_2.35_transformed',\n",
              "       'indicated_air_speed_binned_5_quantile',\n",
              "       'pca_net_comp_net_power_compressor_speed', 'torque_times_temp'],\n",
              "      dtype='object')"
            ]
          },
          "metadata": {},
          "execution_count": 30
        }
      ]
    },
    {
      "cell_type": "code",
      "source": [
        "# prompt: Aggiungi  ,dopo, alla pipeline della cella sopra la trasformazione 'ColumnDropper' per droppare 'indicated_air_speed' e 'power_avail'\n",
        "\n",
        "# Update the pipeline to include the new transformations\n",
        "pipeline_with_all_features = Pipeline([\n",
        "    ('rename_features', FeatureRenamer(column_names=new_names_for_train_data[:-1])), # Exclude 'health_state' if not in data_train_x\n",
        "    ('custom_root_power_avail', CustomRootTransformer(root_transformations={'power_avail': 2.35})),\n",
        "    ('binned_air_speed', BinnedQualitativeTransformer(binning_config={'indicated_air_speed': (5, 'quantile')})),\n",
        "    ('pca_speed_power', PCATransformer(columns_to_pca=['net_power', 'compressor_speed'], n_components=1)),\n",
        "    ('torque_temp_feature', TorqueTempFeature()),\n",
        "    ('drop_columns', ColumnDropper(columns_to_drop=['indicated_air_speed', 'power_avail'])), # Add ColumnDropper here\n",
        "    ('scale_data', ColumnStandardizer()) # Assuming you still want scaling at the end\n",
        "])\n",
        "\n",
        "# Apply the updated pipeline to data_train_x\n",
        "data_train_processed_x = pipeline_with_all_features.fit_transform(data_train_x)\n",
        "\n",
        "print(\"\\nPipeline with all transformations and column dropping applied to data_train_x:\")\n",
        "print(data_train_processed_x.head())\n",
        "print(data_train_processed_x.columns) # Check the new columns and dropped columns\n",
        "\n",
        "# You can now combine data_train_processed_x with data_train_y for modeling\n",
        "# final_train_data = pd.concat([data_train_processed_x, data_train_y], axis=1)\n",
        "# print(\"\\nFinal training data shape:\", final_train_data.shape)\n"
      ],
      "metadata": {
        "id": "F099BQDeEa9p",
        "outputId": "6dc08934-fb01-44bb-c5ba-4b1bbdf4f56b",
        "colab": {
          "base_uri": "https://localhost:8080/"
        }
      },
      "execution_count": 28,
      "outputs": [
        {
          "output_type": "stream",
          "name": "stdout",
          "text": [
            "Applying custom root 2.35 transformation to column 'power_avail'...\n",
            "Applying binning transformation to column 'indicated_air_speed' with 5 bins and strategy 'quantile'...\n",
            "Fitting PCA on columns: ['net_power', 'compressor_speed']\n",
            "Transforming columns ['net_power', 'compressor_speed'] using PCA...\n",
            "Dropping original PCA columns: ['net_power', 'compressor_speed']\n",
            "Creating 'torque_times_temp' feature...\n",
            "Dropping 'torque_meas' and 'outside_air_temp' columns...\n",
            "\n",
            "Pipeline with all transformations and column dropping applied to data_train_x:\n",
            "        mean_gas_temp  power_avail_root_2.35_transformed  \\\n",
            "331067       0.698165                           0.711213   \n",
            "601458       0.527553                           0.701660   \n",
            "77053        0.310035                           0.337392   \n",
            "664037       0.253026                           0.544911   \n",
            "346977       0.659898                           0.715194   \n",
            "\n",
            "        indicated_air_speed_binned_5_quantile  pca_net_power_compressor_speed  \\\n",
            "331067                                   0.25                        0.740530   \n",
            "601458                                   0.50                        0.804122   \n",
            "77053                                    0.25                        0.909594   \n",
            "664037                                   0.25                        0.187028   \n",
            "346977                                   0.50                        0.750318   \n",
            "\n",
            "        torque_times_temp  \n",
            "331067           0.644852  \n",
            "601458           0.623529  \n",
            "77053            0.463536  \n",
            "664037           0.414863  \n",
            "346977           0.613678  \n",
            "Index(['mean_gas_temp', 'power_avail_root_2.35_transformed',\n",
            "       'indicated_air_speed_binned_5_quantile',\n",
            "       'pca_net_power_compressor_speed', 'torque_times_temp'],\n",
            "      dtype='object')\n"
          ]
        }
      ]
    },
    {
      "cell_type": "code",
      "source": [
        "# prompt: Aggiungi alla fine alla pipeline della cella sopra la trasformazione 'ColumnStandardizer' su  (in maniera tale che i valori di ognuna delle nuove feature vadano da -1 a 1): 'mean_gas_temp', 'power_avail', 'indicated_air_speed',\n",
        "#        'power_avail_root_2.35_transformed',\n",
        "#        'indicated_air_speed_binned_5_quantile',\n",
        "#        'pca_net_power_compressor_speed', 'torque_times_temp'. Mostra poi la distribuzione dei dati\n",
        "\n",
        "# Add ColumnStandardizer to the pipeline\n",
        "pipeline_with_all_features_and_standardizer = Pipeline([\n",
        "    ('rename_features', FeatureRenamer(column_names=new_names_for_train_data[:-1])),\n",
        "    ('custom_root_power_avail', CustomRootTransformer(root_transformations={'power_avail': 2.35})),\n",
        "    ('binned_air_speed', BinnedQualitativeTransformer(binning_config={'indicated_air_speed': (5, 'quantile')})),\n",
        "    ('pca_speed_power', PCATransformer(columns_to_pca=['net_power', 'compressor_speed'], n_components=1)),\n",
        "    ('torque_temp_feature', TorqueTempFeature()),\n",
        "    ('standardize_selected', ColumnStandardizer(columns_to_standardize=[\n",
        "        'mean_gas_temp',\n",
        "        'power_avail',\n",
        "        'pca_net_power_compressor_speed',\n",
        "        'torque_times_temp'\n",
        "    ]))\n",
        "])\n",
        "\n",
        "# Apply the updated pipeline to data_train_x\n",
        "data_train_final_processed_x = pipeline_with_all_features_and_standardizer.fit_transform(data_train_x)\n",
        "\n",
        "print(\"\\nPipeline with all transformations and ColumnStandardizer applied to data_train_x:\")\n",
        "print(data_train_final_processed_x.head())\n",
        "print(data_train_final_processed_x.columns) # Check the columns\n",
        "\n",
        "# Display the distribution of the final processed data\n",
        "n_cols = 3\n",
        "n_rows = (len(data_train_final_processed_x.columns) + n_cols - 1) // n_cols\n",
        "plt.figure(figsize=(15, n_rows * 4))\n",
        "for i, col in enumerate(data_train_final_processed_x.columns):\n",
        "    plt.subplot(n_rows, n_cols, i + 1)\n",
        "    sns.histplot(data_train_final_processed_x[col], bins=50, kde=True)\n",
        "    plt.title(f'Distribution of {col}')\n",
        "    plt.xlabel(col)\n",
        "    plt.ylabel('Frequency')\n",
        "\n",
        "plt.tight_layout()\n",
        "plt.savefig(\"grafico_final_processed.png\")\n",
        "plt.show()"
      ],
      "metadata": {
        "colab": {
          "base_uri": "https://localhost:8080/",
          "height": 1000
        },
        "id": "XVqRhzXd65Vr",
        "outputId": "6d746c56-bd06-4ff2-8559-f9f46732bf79"
      },
      "execution_count": null,
      "outputs": [
        {
          "output_type": "stream",
          "name": "stdout",
          "text": [
            "Applying custom root 2.35 transformation to column 'power_avail'...\n",
            "Applying binning transformation to column 'indicated_air_speed' with 5 bins and strategy 'quantile'...\n",
            "Fitting PCA on columns: ['net_power', 'compressor_speed']\n",
            "Transforming columns ['net_power', 'compressor_speed'] using PCA...\n",
            "Dropping original PCA columns: ['net_power', 'compressor_speed']\n",
            "Creating 'torque_times_temp' feature...\n",
            "Dropping 'torque_meas' and 'outside_air_temp' columns...\n",
            "Fitting StandardScaler on columns: ['mean_gas_temp', 'power_avail', 'pca_net_power_compressor_speed', 'torque_times_temp']\n",
            "Transforming columns ['mean_gas_temp', 'power_avail', 'pca_net_power_compressor_speed', 'torque_times_temp'] using StandardScaler...\n",
            "\n",
            "Pipeline with all transformations and ColumnStandardizer applied to data_train_x:\n",
            "        mean_gas_temp  power_avail  indicated_air_speed  \\\n",
            "331067       1.357989     0.877700             56.00000   \n",
            "601458       0.255597     0.793633             96.97656   \n",
            "77053       -1.149874    -0.865050             73.68750   \n",
            "664037      -1.518232    -0.267535             61.87500   \n",
            "346977       1.110735     0.913422             89.50000   \n",
            "\n",
            "        power_avail_root_2.35_transformed  \\\n",
            "331067                          18.952734   \n",
            "601458                          18.567861   \n",
            "77053                            3.892758   \n",
            "664037                          12.252963   \n",
            "346977                          19.113119   \n",
            "\n",
            "        indicated_air_speed_binned_5_quantile  pca_net_power_compressor_speed  \\\n",
            "331067                                      1                        0.287950   \n",
            "601458                                      2                        0.526964   \n",
            "77053                                       1                        0.923381   \n",
            "664037                                      1                       -1.792399   \n",
            "346977                                      2                        0.324740   \n",
            "\n",
            "        torque_times_temp  \n",
            "331067           1.141860  \n",
            "601458           0.954227  \n",
            "77053           -0.453630  \n",
            "664037          -0.881932  \n",
            "346977           0.867543  \n",
            "Index(['mean_gas_temp', 'power_avail', 'indicated_air_speed',\n",
            "       'power_avail_root_2.35_transformed',\n",
            "       'indicated_air_speed_binned_5_quantile',\n",
            "       'pca_net_power_compressor_speed', 'torque_times_temp'],\n",
            "      dtype='object')\n"
          ]
        },
        {
          "output_type": "display_data",
          "data": {
            "text/plain": [
              "<Figure size 1500x1200 with 7 Axes>"
            ],
            "image/png": "[encoded data removed]"
          },
          "metadata": {}
        }
      ]
    },
    {
      "cell_type": "code",
      "source": [
        "# prompt: aggiungi alla pipeline in cui viene applicata feature_renamer: a) la trasfromazione CustomRootTransformer su power_avail b) la trasformazione  create_binned_qualitative_variable suindicated_air_speed c) la trasformazione PCATransformer su 'net_power' e 'compressor_speed' d) la trasformazione TorqueTempFeature su 'torque_meas' e 'outside_air_temp'. Infine applica 'DataScaler' su tutte compresa torque_times_temp\n",
        "\n",
        "# Add DataScaler at the end of the pipeline\n",
        "pipeline_complete_with_scaler = Pipeline([\n",
        "    ('rename_features', FeatureRenamer(column_names=new_names_for_train_data)),\n",
        "    # Add the new transformations after renaming\n",
        "    ('custom_root_power_avail', CustomRootTransformer(root_transformations=root_transformation_config)),\n",
        "    ('binned_indicated_air_speed', BinnedQualitativeTransformer(binning_config=binning_config_indicated_air_speed)),\n",
        "    ('pca_net_power_compressor_speed', PCATransformer(**pca_config)),\n",
        "    ('torque_temp_feature', TorqueTempFeature()),\n",
        "    # Add DataScaler to scale all numerical columns including the new one\n",
        "    ('scale_data', DataScaler()),\n",
        "])\n",
        "\n",
        "# Example of applying the pipeline (assuming data_train is available from the previous code)\n",
        "# Note: The FeatureRenamer expects a DataFrame. If data_train is a tuple, it handles it.\n",
        "try:\n",
        "    # Fit the pipeline on the training data\n",
        "    pipeline_complete_with_scaler.fit(data_train)\n",
        "\n",
        "    # Transform the training data using the fitted pipeline\n",
        "    data_train_processed_scaled = pipeline_complete_with_scaler.transform(data_train)\n",
        "\n",
        "    # ---------------------- Output ----------------------\n",
        "    print(\"\\nDataFrame processed and scaled using complete Pipeline:\")\n",
        "    print(data_train_processed_scaled.head())\n",
        "    print(\"\\nColumns after complete pipeline with scaling:\", data_train_processed_scaled.columns.tolist())\n",
        "    print(\"\\nDescription of processed and scaled data:\")\n",
        "    print(data_train_processed_scaled.describe())\n",
        "\n",
        "except Exception as e:\n",
        "    print(f\"An error occurred while applying the complete pipeline with scaling: {e}\")\n",
        "    print(\"Please ensure 'data_train' is a pandas DataFrame or a tuple containing DataFrames.\")\n"
      ],
      "metadata": {
        "colab": {
          "base_uri": "https://localhost:8080/"
        },
        "id": "do96q98J6N9s",
        "outputId": "40801219-59c1-427c-cac7-90422f787bc6"
      },
      "execution_count": null,
      "outputs": [
        {
          "output_type": "stream",
          "name": "stdout",
          "text": [
            "An error occurred while applying the complete pipeline with scaling: Column count mismatch after dropping 'id'.\n",
            "Please ensure 'data_train' is a pandas DataFrame or a tuple containing DataFrames.\n"
          ]
        }
      ]
    }
  ]
}