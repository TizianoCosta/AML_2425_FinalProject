{
  "nbformat": 4,
  "nbformat_minor": 0,
  "metadata": {
    "colab": {
      "provenance": [],
      "authorship_tag": "ABX9TyMtZ12Qo1LGFBN/yOnRooGe"
    },
    "kernelspec": {
      "name": "python3",
      "display_name": "Python 3"
    },
    "language_info": {
      "name": "python"
    }
  },
  "cells": [
    {
      "cell_type": "markdown",
      "source": [
        "# Indici di performance\n",
        "\n",
        "Per la valutazione della bontà di un modello di machine learning è fondamentale calcolare indici di performance: si tratta di valori che rappresentano diverse caratteristiche della predizione e che possono essere utilizzare per determinare quale sia la miglior combinazione di iper parametri o il modello più adatto al caso in esame."
      ],
      "metadata": {
        "id": "4Uwdd0OG-L81"
      }
    }
  ]
}