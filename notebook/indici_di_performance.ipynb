{
  "nbformat": 4,
  "nbformat_minor": 0,
  "metadata": {
    "colab": {
      "provenance": []
    },
    "kernelspec": {
      "name": "python3",
      "display_name": "Python 3"
    },
    "language_info": {
      "name": "python"
    }
  },
  "cells": [
    {
      "cell_type": "markdown",
      "source": [
        "# Indici di performance\n",
        "\n",
        "Per la valutazione della bontà di un modello di machine learning è fondamentale calcolare indici di performance: si tratta di valori che rappresentano diverse caratteristiche della predizione e che possono essere utilizzare per determinare quale sia la miglior combinazione di iper parametri o il modello più adatto al caso in esame."
      ],
      "metadata": {
        "id": "4Uwdd0OG-L81"
      }
    },
    {
      "cell_type": "markdown",
      "source": [
        "## Esempio di dataset\n"
      ],
      "metadata": {
        "id": "XyvzLmnmmZmr"
      }
    },
    {
      "cell_type": "code",
      "source": [
        "y_true = [0, 1, 0, 1, 0, 0, 0, 0]\n",
        "y_pred = [0, 1, 1, 1, 0, 1, 0, 0]"
      ],
      "metadata": {
        "id": "-EJHbeOEmYfs"
      },
      "execution_count": 11,
      "outputs": []
    },
    {
      "cell_type": "markdown",
      "source": [
        "## Confusion Matrix"
      ],
      "metadata": {
        "id": "4b3zUVP8oVHy"
      }
    },
    {
      "cell_type": "code",
      "source": [
        "\n",
        "\n",
        "import pandas as pd\n",
        "from sklearn.metrics import confusion_matrix\n",
        "import seaborn as sns\n",
        "import matplotlib.pyplot as plt\n",
        "# Calcola la confusion matrix\n",
        "cm = confusion_matrix(y_true, y_pred)\n",
        "# Crea un DataFrame per una visualizzazione più semplice\n",
        "cm_df = pd.DataFrame(cm, index = ['Actual 0', 'Actual 1'], columns = ['Predicted 0', 'Predicted 1'])\n",
        "# Visualizza la confusion matrix con seaborn\n",
        "plt.figure(figsize=(8, 6))\n",
        "sns.heatmap(cm_df, annot=True, fmt='d', cmap='Blues')\n",
        "plt.title('Confusion Matrix')\n",
        "plt.xlabel('Predicted Label')\n",
        "plt.ylabel('Actual Label')\n",
        "plt.show()"
      ],
      "metadata": {
        "colab": {
          "base_uri": "https://localhost:8080/",
          "height": 564
        },
        "id": "NY1_1TKSoUrB",
        "outputId": "be73f0af-31c7-4023-b059-0716f15e0508"
      },
      "execution_count": 25,
      "outputs": [
        {
          "output_type": "display_data",
          "data": {
            "text/plain": [
              "<Figure size 800x600 with 2 Axes>"
            ],
            "image/png": "[encoded data removed]"
          },
          "metadata": {}
        }
      ]
    },
    {
      "cell_type": "markdown",
      "source": [
        "## Accuratezza"
      ],
      "metadata": {
        "id": "dRUupWy1mnuU"
      }
    },
    {
      "cell_type": "code",
      "source": [
        "from sklearn.metrics import accuracy_score\n",
        "\n",
        "accuracy = accuracy_score(y_true, y_pred)\n",
        "print(f\"Accuratezza: {accuracy}\")\n"
      ],
      "metadata": {
        "colab": {
          "base_uri": "https://localhost:8080/"
        },
        "id": "wrLjWNJcl_Bl",
        "outputId": "8062486c-e5cb-436c-a25b-2545cf5a1729"
      },
      "execution_count": 19,
      "outputs": [
        {
          "output_type": "stream",
          "name": "stdout",
          "text": [
            "Accuratezza: 0.75\n"
          ]
        }
      ]
    },
    {
      "cell_type": "markdown",
      "source": [
        "## Precisione"
      ],
      "metadata": {
        "id": "rOqN540Wm_-z"
      }
    },
    {
      "cell_type": "code",
      "source": [
        "from sklearn.metrics import precision_score\n",
        "\n",
        "precision = precision_score(y_true, y_pred)\n",
        "print(f\"Precisione: {precision}\")\n"
      ],
      "metadata": {
        "colab": {
          "base_uri": "https://localhost:8080/"
        },
        "id": "YV8GBVwdmsNb",
        "outputId": "f1b64243-dfd8-4b73-91d0-36b0d4e671a8"
      },
      "execution_count": 20,
      "outputs": [
        {
          "output_type": "stream",
          "name": "stdout",
          "text": [
            "Precisione: 0.5\n"
          ]
        }
      ]
    },
    {
      "cell_type": "markdown",
      "source": [
        "## Sensitività"
      ],
      "metadata": {
        "id": "5hV3wFaRn5_z"
      }
    },
    {
      "cell_type": "code",
      "source": [
        "# prompt: Calculate sensitivity\n",
        "\n",
        "from sklearn.metrics import recall_score\n",
        "sensitivity = recall_score(y_true, y_pred)\n",
        "print(f\"Sensitività: {sensitivity}\")"
      ],
      "metadata": {
        "colab": {
          "base_uri": "https://localhost:8080/"
        },
        "id": "X1G3_6LznvlK",
        "outputId": "c3ade79d-7c21-4a2c-c38d-592c4dbeb272"
      },
      "execution_count": 22,
      "outputs": [
        {
          "output_type": "stream",
          "name": "stdout",
          "text": [
            "Sensitività: 1.0\n"
          ]
        }
      ]
    },
    {
      "cell_type": "markdown",
      "source": [
        "## Specificità"
      ],
      "metadata": {
        "id": "54dirt8XnoAL"
      }
    },
    {
      "cell_type": "code",
      "source": [
        "from sklearn.metrics import confusion_matrix\n",
        "\n",
        "# Calculate the confusion matrix\n",
        "tn, fp, fn, tp = confusion_matrix(y_true, y_pred).ravel()\n",
        "\n",
        "# Calculate specificity\n",
        "specificity = tn / (tn + fp)\n",
        "print(f\"Specificità: {specificity}\")"
      ],
      "metadata": {
        "colab": {
          "base_uri": "https://localhost:8080/"
        },
        "id": "6Q0vyOoTnk0L",
        "outputId": "24e3bf86-5a2a-4efd-efcd-d11685252fe6"
      },
      "execution_count": 21,
      "outputs": [
        {
          "output_type": "stream",
          "name": "stdout",
          "text": [
            "Specificità: 0.6666666666666666\n"
          ]
        }
      ]
    }
  ]
}